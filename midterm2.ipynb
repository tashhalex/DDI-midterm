{
 "cells": [
  {
   "cell_type": "code",
   "execution_count": 2,
   "id": "c7007612",
   "metadata": {},
   "outputs": [],
   "source": [
    "# Imports\n",
    "import sqlite3\n",
    "import pandas as pd\n",
    "import numpy as np \n",
    "import matplotlib.pyplot as plt\n",
    "import seaborn as sns\n",
    "import plotly.express as px"
   ]
  },
  {
   "cell_type": "code",
   "execution_count": 3,
   "id": "5941dab6",
   "metadata": {},
   "outputs": [
    {
     "name": "stdout",
     "output_type": "stream",
     "text": [
      "<class 'pandas.core.frame.DataFrame'>\n",
      "RangeIndex: 7560 entries, 0 to 7559\n",
      "Data columns (total 39 columns):\n",
      " #   Column                              Non-Null Count  Dtype \n",
      "---  ------                              --------------  ----- \n",
      " 0   Current Official Name of Satellite  7560 non-null   object\n",
      " 1   Country of Operator/Owner           7560 non-null   object\n",
      " 2   Users                               7560 non-null   object\n",
      " 3   Purpose                             7560 non-null   object\n",
      " 4   Detailed Purpose                    1254 non-null   object\n",
      " 5   Class of Orbit                      7560 non-null   object\n",
      " 6   Date of Launch                      7559 non-null   object\n",
      " 7   Launch Site                         7560 non-null   object\n",
      " 8   Unnamed: 8                          484 non-null    object\n",
      " 9   Unnamed: 9                          484 non-null    object\n",
      " 10  Unnamed: 10                         484 non-null    object\n",
      " 11  Unnamed: 11                         484 non-null    object\n",
      " 12  Unnamed: 12                         484 non-null    object\n",
      " 13  Unnamed: 13                         484 non-null    object\n",
      " 14  Unnamed: 14                         484 non-null    object\n",
      " 15  Unnamed: 15                         484 non-null    object\n",
      " 16  Unnamed: 16                         484 non-null    object\n",
      " 17  Unnamed: 17                         484 non-null    object\n",
      " 18  Unnamed: 18                         484 non-null    object\n",
      " 19  Unnamed: 19                         484 non-null    object\n",
      " 20  Unnamed: 20                         484 non-null    object\n",
      " 21  Unnamed: 21                         484 non-null    object\n",
      " 22  Unnamed: 22                         484 non-null    object\n",
      " 23  Unnamed: 23                         484 non-null    object\n",
      " 24  Unnamed: 24                         485 non-null    object\n",
      " 25  Unnamed: 25                         485 non-null    object\n",
      " 26  Unnamed: 26                         485 non-null    object\n",
      " 27  Unnamed: 27                         485 non-null    object\n",
      " 28  Unnamed: 28                         485 non-null    object\n",
      " 29  Unnamed: 29                         485 non-null    object\n",
      " 30  Unnamed: 30                         485 non-null    object\n",
      " 31  Unnamed: 31                         488 non-null    object\n",
      " 32  Unnamed: 32                         488 non-null    object\n",
      " 33  Unnamed: 33                         487 non-null    object\n",
      " 34  Unnamed: 34                         485 non-null    object\n",
      " 35  Unnamed: 35                         485 non-null    object\n",
      " 36  Unnamed: 36                         485 non-null    object\n",
      " 37  Unnamed: 37                         487 non-null    object\n",
      " 38  Unnamed: 38                         485 non-null    object\n",
      "dtypes: object(39)\n",
      "memory usage: 2.2+ MB\n"
     ]
    }
   ],
   "source": [
    "# Load in data set\n",
    "satellite_df = pd.read_csv('data/UCS-Satellite-DB.csv')\n",
    "satellite_df.info()"
   ]
  },
  {
   "cell_type": "code",
   "execution_count": 4,
   "id": "0d336dd3",
   "metadata": {},
   "outputs": [
    {
     "data": {
      "text/html": [
       "<div>\n",
       "<style scoped>\n",
       "    .dataframe tbody tr th:only-of-type {\n",
       "        vertical-align: middle;\n",
       "    }\n",
       "\n",
       "    .dataframe tbody tr th {\n",
       "        vertical-align: top;\n",
       "    }\n",
       "\n",
       "    .dataframe thead th {\n",
       "        text-align: right;\n",
       "    }\n",
       "</style>\n",
       "<table border=\"1\" class=\"dataframe\">\n",
       "  <thead>\n",
       "    <tr style=\"text-align: right;\">\n",
       "      <th></th>\n",
       "      <th>Current Official Name of Satellite</th>\n",
       "      <th>Country of Operator/Owner</th>\n",
       "      <th>Users</th>\n",
       "      <th>Purpose</th>\n",
       "      <th>Class of Orbit</th>\n",
       "      <th>Date of Launch</th>\n",
       "      <th>Launch Site</th>\n",
       "    </tr>\n",
       "  </thead>\n",
       "  <tbody>\n",
       "    <tr>\n",
       "      <th>0</th>\n",
       "      <td>1HOPSAT-TD</td>\n",
       "      <td>USA</td>\n",
       "      <td>Commercial</td>\n",
       "      <td>Earth Observation</td>\n",
       "      <td>LEO</td>\n",
       "      <td>12/11/2019</td>\n",
       "      <td>Satish Dhawan Space Centre</td>\n",
       "    </tr>\n",
       "    <tr>\n",
       "      <th>1</th>\n",
       "      <td>AAC AIS-Sat1 (Kelpie 1)</td>\n",
       "      <td>United Kingdom</td>\n",
       "      <td>Commercial</td>\n",
       "      <td>Earth Observation</td>\n",
       "      <td>LEO</td>\n",
       "      <td>1/3/2023</td>\n",
       "      <td>Cape Canaveral</td>\n",
       "    </tr>\n",
       "    <tr>\n",
       "      <th>2</th>\n",
       "      <td>Aalto-1</td>\n",
       "      <td>Finland</td>\n",
       "      <td>Civil</td>\n",
       "      <td>Technology Development</td>\n",
       "      <td>LEO</td>\n",
       "      <td>6/23/2017</td>\n",
       "      <td>Satish Dhawan Space Centre</td>\n",
       "    </tr>\n",
       "    <tr>\n",
       "      <th>3</th>\n",
       "      <td>AAt-4</td>\n",
       "      <td>Denmark</td>\n",
       "      <td>Civil</td>\n",
       "      <td>Earth Observation</td>\n",
       "      <td>LEO</td>\n",
       "      <td>4/25/2016</td>\n",
       "      <td>Guiana Space Center</td>\n",
       "    </tr>\n",
       "    <tr>\n",
       "      <th>4</th>\n",
       "      <td>ABS-2</td>\n",
       "      <td>Multinational</td>\n",
       "      <td>Commercial</td>\n",
       "      <td>Communications</td>\n",
       "      <td>GEO</td>\n",
       "      <td>2/6/2014</td>\n",
       "      <td>Guiana Space Center</td>\n",
       "    </tr>\n",
       "    <tr>\n",
       "      <th>...</th>\n",
       "      <td>...</td>\n",
       "      <td>...</td>\n",
       "      <td>...</td>\n",
       "      <td>...</td>\n",
       "      <td>...</td>\n",
       "      <td>...</td>\n",
       "      <td>...</td>\n",
       "    </tr>\n",
       "    <tr>\n",
       "      <th>7555</th>\n",
       "      <td>Ziyuan 1-02C</td>\n",
       "      <td>China</td>\n",
       "      <td>Government</td>\n",
       "      <td>Earth Observation</td>\n",
       "      <td>LEO</td>\n",
       "      <td>12/22/2011</td>\n",
       "      <td>Taiyuan Launch Center</td>\n",
       "    </tr>\n",
       "    <tr>\n",
       "      <th>7556</th>\n",
       "      <td>Ziyuan 1-2D</td>\n",
       "      <td>China</td>\n",
       "      <td>Government</td>\n",
       "      <td>Earth Observation</td>\n",
       "      <td>LEO</td>\n",
       "      <td>9/14/2019</td>\n",
       "      <td>Taiyuan Launch Center</td>\n",
       "    </tr>\n",
       "    <tr>\n",
       "      <th>7557</th>\n",
       "      <td>Ziyuan 3</td>\n",
       "      <td>China</td>\n",
       "      <td>Government</td>\n",
       "      <td>Earth Observation</td>\n",
       "      <td>LEO</td>\n",
       "      <td>1/9/2012</td>\n",
       "      <td>Taiyuan Launch Center</td>\n",
       "    </tr>\n",
       "    <tr>\n",
       "      <th>7558</th>\n",
       "      <td>Ziyuan 3-2</td>\n",
       "      <td>China</td>\n",
       "      <td>Government</td>\n",
       "      <td>Earth Observation</td>\n",
       "      <td>LEO</td>\n",
       "      <td>5/29/2016</td>\n",
       "      <td>Taiyuan Launch Center</td>\n",
       "    </tr>\n",
       "    <tr>\n",
       "      <th>7559</th>\n",
       "      <td>Ziyuan 3-3</td>\n",
       "      <td>China</td>\n",
       "      <td>Government</td>\n",
       "      <td>Earth Observation</td>\n",
       "      <td>LEO</td>\n",
       "      <td>7/25/2020</td>\n",
       "      <td>Taiyuan Launch Center</td>\n",
       "    </tr>\n",
       "  </tbody>\n",
       "</table>\n",
       "<p>7560 rows × 7 columns</p>\n",
       "</div>"
      ],
      "text/plain": [
       "     Current Official Name of Satellite Country of Operator/Owner       Users  \\\n",
       "0                            1HOPSAT-TD                       USA  Commercial   \n",
       "1               AAC AIS-Sat1 (Kelpie 1)            United Kingdom  Commercial   \n",
       "2                               Aalto-1                   Finland       Civil   \n",
       "3                                 AAt-4                   Denmark       Civil   \n",
       "4                                 ABS-2             Multinational  Commercial   \n",
       "...                                 ...                       ...         ...   \n",
       "7555                       Ziyuan 1-02C                     China  Government   \n",
       "7556                        Ziyuan 1-2D                     China  Government   \n",
       "7557                           Ziyuan 3                     China  Government   \n",
       "7558                         Ziyuan 3-2                     China  Government   \n",
       "7559                         Ziyuan 3-3                     China  Government   \n",
       "\n",
       "                     Purpose Class of Orbit Date of Launch  \\\n",
       "0          Earth Observation            LEO     12/11/2019   \n",
       "1          Earth Observation            LEO       1/3/2023   \n",
       "2     Technology Development            LEO      6/23/2017   \n",
       "3          Earth Observation            LEO      4/25/2016   \n",
       "4             Communications            GEO       2/6/2014   \n",
       "...                      ...            ...            ...   \n",
       "7555       Earth Observation            LEO     12/22/2011   \n",
       "7556       Earth Observation            LEO      9/14/2019   \n",
       "7557       Earth Observation            LEO       1/9/2012   \n",
       "7558       Earth Observation            LEO      5/29/2016   \n",
       "7559       Earth Observation            LEO      7/25/2020   \n",
       "\n",
       "                     Launch Site  \n",
       "0     Satish Dhawan Space Centre  \n",
       "1                 Cape Canaveral  \n",
       "2     Satish Dhawan Space Centre  \n",
       "3            Guiana Space Center  \n",
       "4            Guiana Space Center  \n",
       "...                          ...  \n",
       "7555       Taiyuan Launch Center  \n",
       "7556       Taiyuan Launch Center  \n",
       "7557       Taiyuan Launch Center  \n",
       "7558       Taiyuan Launch Center  \n",
       "7559       Taiyuan Launch Center  \n",
       "\n",
       "[7560 rows x 7 columns]"
      ]
     },
     "execution_count": 4,
     "metadata": {},
     "output_type": "execute_result"
    }
   ],
   "source": [
    "# Only keep certain columns\n",
    "satellite_df = satellite_df[['Current Official Name of Satellite', 'Country of Operator/Owner', 'Users', 'Purpose', 'Class of Orbit', 'Date of Launch', 'Launch Site']]\n",
    "satellite_df"
   ]
  },
  {
   "cell_type": "code",
   "execution_count": 5,
   "id": "ec08815b",
   "metadata": {},
   "outputs": [
    {
     "data": {
      "text/html": [
       "<div>\n",
       "<style scoped>\n",
       "    .dataframe tbody tr th:only-of-type {\n",
       "        vertical-align: middle;\n",
       "    }\n",
       "\n",
       "    .dataframe tbody tr th {\n",
       "        vertical-align: top;\n",
       "    }\n",
       "\n",
       "    .dataframe thead th {\n",
       "        text-align: right;\n",
       "    }\n",
       "</style>\n",
       "<table border=\"1\" class=\"dataframe\">\n",
       "  <thead>\n",
       "    <tr style=\"text-align: right;\">\n",
       "      <th></th>\n",
       "      <th>Satellite_Name</th>\n",
       "      <th>Operator_Country</th>\n",
       "      <th>Users</th>\n",
       "      <th>Mission</th>\n",
       "      <th>Orbit</th>\n",
       "      <th>Date of Launch</th>\n",
       "      <th>Launch_Site</th>\n",
       "    </tr>\n",
       "  </thead>\n",
       "  <tbody>\n",
       "    <tr>\n",
       "      <th>0</th>\n",
       "      <td>1HOPSAT-TD</td>\n",
       "      <td>USA</td>\n",
       "      <td>Commercial</td>\n",
       "      <td>Earth Observation</td>\n",
       "      <td>LEO</td>\n",
       "      <td>12/11/2019</td>\n",
       "      <td>Satish Dhawan Space Centre</td>\n",
       "    </tr>\n",
       "    <tr>\n",
       "      <th>1</th>\n",
       "      <td>AAC AIS-Sat1 (Kelpie 1)</td>\n",
       "      <td>United Kingdom</td>\n",
       "      <td>Commercial</td>\n",
       "      <td>Earth Observation</td>\n",
       "      <td>LEO</td>\n",
       "      <td>1/3/2023</td>\n",
       "      <td>Cape Canaveral</td>\n",
       "    </tr>\n",
       "    <tr>\n",
       "      <th>2</th>\n",
       "      <td>Aalto-1</td>\n",
       "      <td>Finland</td>\n",
       "      <td>Civil</td>\n",
       "      <td>Technology Development</td>\n",
       "      <td>LEO</td>\n",
       "      <td>6/23/2017</td>\n",
       "      <td>Satish Dhawan Space Centre</td>\n",
       "    </tr>\n",
       "    <tr>\n",
       "      <th>3</th>\n",
       "      <td>AAt-4</td>\n",
       "      <td>Denmark</td>\n",
       "      <td>Civil</td>\n",
       "      <td>Earth Observation</td>\n",
       "      <td>LEO</td>\n",
       "      <td>4/25/2016</td>\n",
       "      <td>Guiana Space Center</td>\n",
       "    </tr>\n",
       "    <tr>\n",
       "      <th>4</th>\n",
       "      <td>ABS-2</td>\n",
       "      <td>Multinational</td>\n",
       "      <td>Commercial</td>\n",
       "      <td>Communications</td>\n",
       "      <td>GEO</td>\n",
       "      <td>2/6/2014</td>\n",
       "      <td>Guiana Space Center</td>\n",
       "    </tr>\n",
       "    <tr>\n",
       "      <th>...</th>\n",
       "      <td>...</td>\n",
       "      <td>...</td>\n",
       "      <td>...</td>\n",
       "      <td>...</td>\n",
       "      <td>...</td>\n",
       "      <td>...</td>\n",
       "      <td>...</td>\n",
       "    </tr>\n",
       "    <tr>\n",
       "      <th>7555</th>\n",
       "      <td>Ziyuan 1-02C</td>\n",
       "      <td>China</td>\n",
       "      <td>Government</td>\n",
       "      <td>Earth Observation</td>\n",
       "      <td>LEO</td>\n",
       "      <td>12/22/2011</td>\n",
       "      <td>Taiyuan Launch Center</td>\n",
       "    </tr>\n",
       "    <tr>\n",
       "      <th>7556</th>\n",
       "      <td>Ziyuan 1-2D</td>\n",
       "      <td>China</td>\n",
       "      <td>Government</td>\n",
       "      <td>Earth Observation</td>\n",
       "      <td>LEO</td>\n",
       "      <td>9/14/2019</td>\n",
       "      <td>Taiyuan Launch Center</td>\n",
       "    </tr>\n",
       "    <tr>\n",
       "      <th>7557</th>\n",
       "      <td>Ziyuan 3</td>\n",
       "      <td>China</td>\n",
       "      <td>Government</td>\n",
       "      <td>Earth Observation</td>\n",
       "      <td>LEO</td>\n",
       "      <td>1/9/2012</td>\n",
       "      <td>Taiyuan Launch Center</td>\n",
       "    </tr>\n",
       "    <tr>\n",
       "      <th>7558</th>\n",
       "      <td>Ziyuan 3-2</td>\n",
       "      <td>China</td>\n",
       "      <td>Government</td>\n",
       "      <td>Earth Observation</td>\n",
       "      <td>LEO</td>\n",
       "      <td>5/29/2016</td>\n",
       "      <td>Taiyuan Launch Center</td>\n",
       "    </tr>\n",
       "    <tr>\n",
       "      <th>7559</th>\n",
       "      <td>Ziyuan 3-3</td>\n",
       "      <td>China</td>\n",
       "      <td>Government</td>\n",
       "      <td>Earth Observation</td>\n",
       "      <td>LEO</td>\n",
       "      <td>7/25/2020</td>\n",
       "      <td>Taiyuan Launch Center</td>\n",
       "    </tr>\n",
       "  </tbody>\n",
       "</table>\n",
       "<p>7560 rows × 7 columns</p>\n",
       "</div>"
      ],
      "text/plain": [
       "               Satellite_Name Operator_Country       Users  \\\n",
       "0                  1HOPSAT-TD              USA  Commercial   \n",
       "1     AAC AIS-Sat1 (Kelpie 1)   United Kingdom  Commercial   \n",
       "2                     Aalto-1          Finland       Civil   \n",
       "3                       AAt-4          Denmark       Civil   \n",
       "4                       ABS-2    Multinational  Commercial   \n",
       "...                       ...              ...         ...   \n",
       "7555             Ziyuan 1-02C            China  Government   \n",
       "7556              Ziyuan 1-2D            China  Government   \n",
       "7557                 Ziyuan 3            China  Government   \n",
       "7558               Ziyuan 3-2            China  Government   \n",
       "7559               Ziyuan 3-3            China  Government   \n",
       "\n",
       "                     Mission Orbit Date of Launch                 Launch_Site  \n",
       "0          Earth Observation   LEO     12/11/2019  Satish Dhawan Space Centre  \n",
       "1          Earth Observation   LEO       1/3/2023              Cape Canaveral  \n",
       "2     Technology Development   LEO      6/23/2017  Satish Dhawan Space Centre  \n",
       "3          Earth Observation   LEO      4/25/2016         Guiana Space Center  \n",
       "4             Communications   GEO       2/6/2014         Guiana Space Center  \n",
       "...                      ...   ...            ...                         ...  \n",
       "7555       Earth Observation   LEO     12/22/2011       Taiyuan Launch Center  \n",
       "7556       Earth Observation   LEO      9/14/2019       Taiyuan Launch Center  \n",
       "7557       Earth Observation   LEO       1/9/2012       Taiyuan Launch Center  \n",
       "7558       Earth Observation   LEO      5/29/2016       Taiyuan Launch Center  \n",
       "7559       Earth Observation   LEO      7/25/2020       Taiyuan Launch Center  \n",
       "\n",
       "[7560 rows x 7 columns]"
      ]
     },
     "execution_count": 5,
     "metadata": {},
     "output_type": "execute_result"
    }
   ],
   "source": [
    "# Rename Columns to be more concise & SQL friendly\n",
    "satellite_df = satellite_df.rename(columns={\n",
    "    'Current Official Name of Satellite': 'Satellite_Name',\n",
    "    'Country of Operator/Owner': 'Operator_Country',\n",
    "    'Purpose': 'Mission',\n",
    "    'Class of Orbit': 'Orbit',\n",
    "    'Launch Site': 'Launch_Site'})\n",
    "satellite_df"
   ]
  },
  {
   "cell_type": "code",
   "execution_count": 68,
   "id": "eec3213b",
   "metadata": {},
   "outputs": [
    {
     "name": "stdout",
     "output_type": "stream",
     "text": [
      "<class 'pandas.core.frame.DataFrame'>\n",
      "Index: 6920 entries, 0 to 7559\n",
      "Data columns (total 9 columns):\n",
      " #   Column            Non-Null Count  Dtype         \n",
      "---  ------            --------------  -----         \n",
      " 0   Satellite_Name    6920 non-null   object        \n",
      " 1   Operator_Country  6920 non-null   object        \n",
      " 2   Users             6920 non-null   object        \n",
      " 3   Mission           6920 non-null   object        \n",
      " 4   Orbit             6920 non-null   object        \n",
      " 5   Date of Launch    6920 non-null   object        \n",
      " 6   Launch_Site       6920 non-null   object        \n",
      " 7   Launch_Date       6920 non-null   datetime64[ns]\n",
      " 8   Launch_Year       6920 non-null   Int64         \n",
      "dtypes: Int64(1), datetime64[ns](1), object(7)\n",
      "memory usage: 547.4+ KB\n"
     ]
    }
   ],
   "source": [
    "# Convert Launch Date to DateTime\n",
    "satellite_df['Launch_Date'] = pd.to_datetime(satellite_df['Date of Launch'], yearfirst=True)\n",
    "\n",
    "# Create a new column to store the year\n",
    "satellite_df['Launch_Year'] = satellite_df['Launch_Date'].dt.year.convert_dtypes()\n",
    "\n",
    "# Only keep missions that were launched between 2015 to Present\n",
    "sats2015_df = satellite_df[satellite_df['Launch_Year'] >= 2013]\n",
    "sats2015_df.info()"
   ]
  },
  {
   "cell_type": "code",
   "execution_count": 69,
   "id": "3c0bbfc0",
   "metadata": {},
   "outputs": [
    {
     "data": {
      "text/plain": [
       "Satellite_Name      0\n",
       "Operator_Country    0\n",
       "Users               0\n",
       "Mission             0\n",
       "Orbit               0\n",
       "Date of Launch      0\n",
       "Launch_Site         0\n",
       "Launch_Date         0\n",
       "Launch_Year         0\n",
       "dtype: int64"
      ]
     },
     "execution_count": 69,
     "metadata": {},
     "output_type": "execute_result"
    }
   ],
   "source": [
    "# Check for null values\n",
    "sats2015_df.isnull().sum()"
   ]
  },
  {
   "cell_type": "code",
   "execution_count": 70,
   "id": "49db84a1",
   "metadata": {},
   "outputs": [
    {
     "data": {
      "text/plain": [
       "Mission\n",
       "Communications                                    5175\n",
       "Communications/Maritime Tracking                     3\n",
       "Communications/Technology Development                1\n",
       "Earth Observation                                 1076\n",
       "Earth Observation                                    3\n",
       "Earth Observation/Communications                     1\n",
       "Earth Observation/Communications/Space Science       1\n",
       "Earth Observation/Earth Science                      1\n",
       "Earth Observation/Navigation                         9\n",
       "Earth Observation/Space Science                      1\n",
       "Earth Observation/Technology Development             3\n",
       "Earth Science                                       26\n",
       "Earth Science/Earth Observation                      1\n",
       "Earth/Space Observation                              4\n",
       "Educational                                          1\n",
       "Meteorological                                       6\n",
       "Mission Extension Technology                         2\n",
       "Navigation/Global Positioning                       91\n",
       "Navigation/Regional Positioning                     12\n",
       "Platform                                             1\n",
       "Satellite Positioning                                1\n",
       "Space Observation                                    8\n",
       "Space Science                                       62\n",
       "Space Science/Technology Demonstration               1\n",
       "Space Science/Technology Development                 1\n",
       "Surveillance                                        20\n",
       "Technology Demonstration                            62\n",
       "Technology Development                             335\n",
       "Technology Development/Educational                   2\n",
       "Unknown                                             10\n",
       "dtype: int64"
      ]
     },
     "execution_count": 70,
     "metadata": {},
     "output_type": "execute_result"
    }
   ],
   "source": [
    "# Moving on to Missions, get an idea of Mission Categories\n",
    "sats2015_df.groupby('Mission').size()"
   ]
  },
  {
   "cell_type": "code",
   "execution_count": 71,
   "id": "35f2e950",
   "metadata": {},
   "outputs": [
    {
     "name": "stderr",
     "output_type": "stream",
     "text": [
      "C:\\Users\\thatc\\AppData\\Local\\Temp\\ipykernel_15356\\4177998566.py:24: SettingWithCopyWarning:\n",
      "\n",
      "\n",
      "A value is trying to be set on a copy of a slice from a DataFrame.\n",
      "Try using .loc[row_indexer,col_indexer] = value instead\n",
      "\n",
      "See the caveats in the documentation: https://pandas.pydata.org/pandas-docs/stable/user_guide/indexing.html#returning-a-view-versus-a-copy\n",
      "\n"
     ]
    },
    {
     "data": {
      "text/html": [
       "<div>\n",
       "<style scoped>\n",
       "    .dataframe tbody tr th:only-of-type {\n",
       "        vertical-align: middle;\n",
       "    }\n",
       "\n",
       "    .dataframe tbody tr th {\n",
       "        vertical-align: top;\n",
       "    }\n",
       "\n",
       "    .dataframe thead th {\n",
       "        text-align: right;\n",
       "    }\n",
       "</style>\n",
       "<table border=\"1\" class=\"dataframe\">\n",
       "  <thead>\n",
       "    <tr style=\"text-align: right;\">\n",
       "      <th></th>\n",
       "      <th>Satellite_Name</th>\n",
       "      <th>Operator_Country</th>\n",
       "      <th>Users</th>\n",
       "      <th>Mission</th>\n",
       "      <th>Orbit</th>\n",
       "      <th>Date of Launch</th>\n",
       "      <th>Launch_Site</th>\n",
       "      <th>Launch_Date</th>\n",
       "      <th>Launch_Year</th>\n",
       "      <th>Primary_Mission</th>\n",
       "    </tr>\n",
       "  </thead>\n",
       "  <tbody>\n",
       "    <tr>\n",
       "      <th>0</th>\n",
       "      <td>1HOPSAT-TD</td>\n",
       "      <td>USA</td>\n",
       "      <td>Commercial</td>\n",
       "      <td>Earth Observation</td>\n",
       "      <td>LEO</td>\n",
       "      <td>12/11/2019</td>\n",
       "      <td>Satish Dhawan Space Centre</td>\n",
       "      <td>2019-12-11</td>\n",
       "      <td>2019</td>\n",
       "      <td>Earth Observation</td>\n",
       "    </tr>\n",
       "    <tr>\n",
       "      <th>1</th>\n",
       "      <td>AAC AIS-Sat1 (Kelpie 1)</td>\n",
       "      <td>United Kingdom</td>\n",
       "      <td>Commercial</td>\n",
       "      <td>Earth Observation</td>\n",
       "      <td>LEO</td>\n",
       "      <td>1/3/2023</td>\n",
       "      <td>Cape Canaveral</td>\n",
       "      <td>2023-01-03</td>\n",
       "      <td>2023</td>\n",
       "      <td>Earth Observation</td>\n",
       "    </tr>\n",
       "    <tr>\n",
       "      <th>2</th>\n",
       "      <td>Aalto-1</td>\n",
       "      <td>Finland</td>\n",
       "      <td>Civil</td>\n",
       "      <td>Technology Development</td>\n",
       "      <td>LEO</td>\n",
       "      <td>6/23/2017</td>\n",
       "      <td>Satish Dhawan Space Centre</td>\n",
       "      <td>2017-06-23</td>\n",
       "      <td>2017</td>\n",
       "      <td>Technology Development</td>\n",
       "    </tr>\n",
       "    <tr>\n",
       "      <th>3</th>\n",
       "      <td>AAt-4</td>\n",
       "      <td>Denmark</td>\n",
       "      <td>Civil</td>\n",
       "      <td>Earth Observation</td>\n",
       "      <td>LEO</td>\n",
       "      <td>4/25/2016</td>\n",
       "      <td>Guiana Space Center</td>\n",
       "      <td>2016-04-25</td>\n",
       "      <td>2016</td>\n",
       "      <td>Earth Observation</td>\n",
       "    </tr>\n",
       "    <tr>\n",
       "      <th>4</th>\n",
       "      <td>ABS-2</td>\n",
       "      <td>Multinational</td>\n",
       "      <td>Commercial</td>\n",
       "      <td>Communications</td>\n",
       "      <td>GEO</td>\n",
       "      <td>2/6/2014</td>\n",
       "      <td>Guiana Space Center</td>\n",
       "      <td>2014-02-06</td>\n",
       "      <td>2014</td>\n",
       "      <td>Communications</td>\n",
       "    </tr>\n",
       "    <tr>\n",
       "      <th>...</th>\n",
       "      <td>...</td>\n",
       "      <td>...</td>\n",
       "      <td>...</td>\n",
       "      <td>...</td>\n",
       "      <td>...</td>\n",
       "      <td>...</td>\n",
       "      <td>...</td>\n",
       "      <td>...</td>\n",
       "      <td>...</td>\n",
       "      <td>...</td>\n",
       "    </tr>\n",
       "    <tr>\n",
       "      <th>7553</th>\n",
       "      <td>OHS-3</td>\n",
       "      <td>China</td>\n",
       "      <td>Commercial</td>\n",
       "      <td>Earth Observation</td>\n",
       "      <td>LEO</td>\n",
       "      <td>4/26/2018</td>\n",
       "      <td>Jiuquan Satellite Launch Center</td>\n",
       "      <td>2018-04-26</td>\n",
       "      <td>2018</td>\n",
       "      <td>Earth Observation</td>\n",
       "    </tr>\n",
       "    <tr>\n",
       "      <th>7554</th>\n",
       "      <td>OHS-4</td>\n",
       "      <td>China</td>\n",
       "      <td>Commercial</td>\n",
       "      <td>Earth Observation</td>\n",
       "      <td>LEO</td>\n",
       "      <td>4/26/2018</td>\n",
       "      <td>Jiuquan Satellite Launch Center</td>\n",
       "      <td>2018-04-26</td>\n",
       "      <td>2018</td>\n",
       "      <td>Earth Observation</td>\n",
       "    </tr>\n",
       "    <tr>\n",
       "      <th>7556</th>\n",
       "      <td>Ziyuan 1-2D</td>\n",
       "      <td>China</td>\n",
       "      <td>Government</td>\n",
       "      <td>Earth Observation</td>\n",
       "      <td>LEO</td>\n",
       "      <td>9/14/2019</td>\n",
       "      <td>Taiyuan Launch Center</td>\n",
       "      <td>2019-09-14</td>\n",
       "      <td>2019</td>\n",
       "      <td>Earth Observation</td>\n",
       "    </tr>\n",
       "    <tr>\n",
       "      <th>7558</th>\n",
       "      <td>Ziyuan 3-2</td>\n",
       "      <td>China</td>\n",
       "      <td>Government</td>\n",
       "      <td>Earth Observation</td>\n",
       "      <td>LEO</td>\n",
       "      <td>5/29/2016</td>\n",
       "      <td>Taiyuan Launch Center</td>\n",
       "      <td>2016-05-29</td>\n",
       "      <td>2016</td>\n",
       "      <td>Earth Observation</td>\n",
       "    </tr>\n",
       "    <tr>\n",
       "      <th>7559</th>\n",
       "      <td>Ziyuan 3-3</td>\n",
       "      <td>China</td>\n",
       "      <td>Government</td>\n",
       "      <td>Earth Observation</td>\n",
       "      <td>LEO</td>\n",
       "      <td>7/25/2020</td>\n",
       "      <td>Taiyuan Launch Center</td>\n",
       "      <td>2020-07-25</td>\n",
       "      <td>2020</td>\n",
       "      <td>Earth Observation</td>\n",
       "    </tr>\n",
       "  </tbody>\n",
       "</table>\n",
       "<p>6920 rows × 10 columns</p>\n",
       "</div>"
      ],
      "text/plain": [
       "               Satellite_Name Operator_Country       Users  \\\n",
       "0                  1HOPSAT-TD              USA  Commercial   \n",
       "1     AAC AIS-Sat1 (Kelpie 1)   United Kingdom  Commercial   \n",
       "2                     Aalto-1          Finland       Civil   \n",
       "3                       AAt-4          Denmark       Civil   \n",
       "4                       ABS-2    Multinational  Commercial   \n",
       "...                       ...              ...         ...   \n",
       "7553                    OHS-3            China  Commercial   \n",
       "7554                    OHS-4            China  Commercial   \n",
       "7556              Ziyuan 1-2D            China  Government   \n",
       "7558               Ziyuan 3-2            China  Government   \n",
       "7559               Ziyuan 3-3            China  Government   \n",
       "\n",
       "                     Mission Orbit Date of Launch  \\\n",
       "0          Earth Observation   LEO     12/11/2019   \n",
       "1          Earth Observation   LEO       1/3/2023   \n",
       "2     Technology Development   LEO      6/23/2017   \n",
       "3          Earth Observation   LEO      4/25/2016   \n",
       "4             Communications   GEO       2/6/2014   \n",
       "...                      ...   ...            ...   \n",
       "7553       Earth Observation   LEO      4/26/2018   \n",
       "7554       Earth Observation   LEO      4/26/2018   \n",
       "7556       Earth Observation   LEO      9/14/2019   \n",
       "7558       Earth Observation   LEO      5/29/2016   \n",
       "7559       Earth Observation   LEO      7/25/2020   \n",
       "\n",
       "                          Launch_Site Launch_Date  Launch_Year  \\\n",
       "0          Satish Dhawan Space Centre  2019-12-11         2019   \n",
       "1                      Cape Canaveral  2023-01-03         2023   \n",
       "2          Satish Dhawan Space Centre  2017-06-23         2017   \n",
       "3                 Guiana Space Center  2016-04-25         2016   \n",
       "4                 Guiana Space Center  2014-02-06         2014   \n",
       "...                               ...         ...          ...   \n",
       "7553  Jiuquan Satellite Launch Center  2018-04-26         2018   \n",
       "7554  Jiuquan Satellite Launch Center  2018-04-26         2018   \n",
       "7556            Taiyuan Launch Center  2019-09-14         2019   \n",
       "7558            Taiyuan Launch Center  2016-05-29         2016   \n",
       "7559            Taiyuan Launch Center  2020-07-25         2020   \n",
       "\n",
       "             Primary_Mission  \n",
       "0          Earth Observation  \n",
       "1          Earth Observation  \n",
       "2     Technology Development  \n",
       "3          Earth Observation  \n",
       "4             Communications  \n",
       "...                      ...  \n",
       "7553       Earth Observation  \n",
       "7554       Earth Observation  \n",
       "7556       Earth Observation  \n",
       "7558       Earth Observation  \n",
       "7559       Earth Observation  \n",
       "\n",
       "[6920 rows x 10 columns]"
      ]
     },
     "execution_count": 71,
     "metadata": {},
     "output_type": "execute_result"
    }
   ],
   "source": [
    "# Create a new column for Primary Mission and create a function that will pull primary mission from Mission List\n",
    "def primary_mission(mission):\n",
    "    primary_msns = [\n",
    "    'Communications',\n",
    "    'Earth Observation',\n",
    "    'Navigation',\n",
    "    'Meteorological',\n",
    "    'Space Observation',\n",
    "    'Space Science',\n",
    "    'Technology Development',\n",
    "    'Unknown'\n",
    "    ] \n",
    "    \n",
    "    if pd.isnull(mission):\n",
    "        return 'Unknown'\n",
    "    \n",
    "    missions = [m.strip().title() for m in mission.split('/')]\n",
    "\n",
    "    for m in missions:\n",
    "        if m in primary_msns:\n",
    "            return m\n",
    "    return 'Unknown'\n",
    "\n",
    "sats2015_df['Primary_Mission'] = sats2015_df['Mission'].apply(primary_mission)\n",
    "sats2015_df"
   ]
  },
  {
   "cell_type": "code",
   "execution_count": 72,
   "id": "82bfb5de",
   "metadata": {},
   "outputs": [
    {
     "data": {
      "text/plain": [
       "Primary_Mission\n",
       "Communications            5179\n",
       "Earth Observation         1096\n",
       "Meteorological               6\n",
       "Navigation                 103\n",
       "Space Observation           12\n",
       "Space Science               64\n",
       "Technology Development     337\n",
       "Unknown                    123\n",
       "dtype: int64"
      ]
     },
     "execution_count": 72,
     "metadata": {},
     "output_type": "execute_result"
    }
   ],
   "source": [
    "sats2015_df.groupby('Primary_Mission').size()"
   ]
  },
  {
   "cell_type": "code",
   "execution_count": 73,
   "id": "30a60033",
   "metadata": {},
   "outputs": [
    {
     "name": "stderr",
     "output_type": "stream",
     "text": [
      "C:\\Users\\thatc\\AppData\\Local\\Temp\\ipykernel_15356\\641348949.py:2: SettingWithCopyWarning:\n",
      "\n",
      "\n",
      "A value is trying to be set on a copy of a slice from a DataFrame.\n",
      "Try using .loc[row_indexer,col_indexer] = value instead\n",
      "\n",
      "See the caveats in the documentation: https://pandas.pydata.org/pandas-docs/stable/user_guide/indexing.html#returning-a-view-versus-a-copy\n",
      "\n"
     ]
    },
    {
     "data": {
      "text/plain": [
       "Orbit\n",
       "ELLIPTICAL      29\n",
       "GEO            309\n",
       "LEO           6482\n",
       "MEO            100\n",
       "dtype: int64"
      ]
     },
     "execution_count": 73,
     "metadata": {},
     "output_type": "execute_result"
    }
   ],
   "source": [
    "# Check consistencies in Orbits, make them all upper case\n",
    "sats2015_df['Orbit'] = sats2015_df['Orbit'].str.strip().str.upper()\n",
    "sats2015_df.groupby('Orbit').size()"
   ]
  },
  {
   "cell_type": "code",
   "execution_count": 74,
   "id": "d0b06396",
   "metadata": {},
   "outputs": [
    {
     "name": "stderr",
     "output_type": "stream",
     "text": [
      "C:\\Users\\thatc\\AppData\\Local\\Temp\\ipykernel_15356\\2921176721.py:14: SettingWithCopyWarning:\n",
      "\n",
      "\n",
      "A value is trying to be set on a copy of a slice from a DataFrame.\n",
      "Try using .loc[row_indexer,col_indexer] = value instead\n",
      "\n",
      "See the caveats in the documentation: https://pandas.pydata.org/pandas-docs/stable/user_guide/indexing.html#returning-a-view-versus-a-copy\n",
      "\n"
     ]
    },
    {
     "data": {
      "text/plain": [
       "Frequency_Band\n",
       "C/Ku/Ka      5179\n",
       "L             103\n",
       "Other         123\n",
       "S/X             6\n",
       "S/X/Ka         76\n",
       "S/X/Ka/Ku     337\n",
       "X/S          1096\n",
       "dtype: int64"
      ]
     },
     "execution_count": 74,
     "metadata": {},
     "output_type": "execute_result"
    }
   ],
   "source": [
    "# Assign Frequency Bands to Each Satellite\n",
    "frequency_band_mapping = {\n",
    "    'Communications': 'C/Ku/Ka',\n",
    "    'Earth Observation': 'X/S',\n",
    "    'Navigation': 'L',\n",
    "    'Meteorological': 'S/X',\n",
    "    'Space Observation': 'S/X/Ka',\n",
    "    'Space Science': 'S/X/Ka',\n",
    "    'Technology Development': 'S/X/Ka/Ku',\n",
    "    'Other' : 'Other',\n",
    "    'Unknown': 'Other'\n",
    "}\n",
    "\n",
    "sats2015_df['Frequency_Band'] = sats2015_df['Primary_Mission'].map(frequency_band_mapping)\n",
    "sats2015_df.groupby('Frequency_Band').size()"
   ]
  },
  {
   "cell_type": "code",
   "execution_count": 75,
   "id": "413abbc9",
   "metadata": {},
   "outputs": [
    {
     "data": {
      "text/html": [
       "<div>\n",
       "<style scoped>\n",
       "    .dataframe tbody tr th:only-of-type {\n",
       "        vertical-align: middle;\n",
       "    }\n",
       "\n",
       "    .dataframe tbody tr th {\n",
       "        vertical-align: top;\n",
       "    }\n",
       "\n",
       "    .dataframe thead th {\n",
       "        text-align: right;\n",
       "    }\n",
       "</style>\n",
       "<table border=\"1\" class=\"dataframe\">\n",
       "  <thead>\n",
       "    <tr style=\"text-align: right;\">\n",
       "      <th></th>\n",
       "      <th>Satellite_Name</th>\n",
       "      <th>Operator_Country</th>\n",
       "      <th>Users</th>\n",
       "      <th>Orbit</th>\n",
       "      <th>Launch_Site</th>\n",
       "      <th>Launch_Year</th>\n",
       "      <th>Primary_Mission</th>\n",
       "      <th>Frequency_Band</th>\n",
       "    </tr>\n",
       "  </thead>\n",
       "  <tbody>\n",
       "    <tr>\n",
       "      <th>0</th>\n",
       "      <td>1HOPSAT-TD</td>\n",
       "      <td>USA</td>\n",
       "      <td>Commercial</td>\n",
       "      <td>LEO</td>\n",
       "      <td>Satish Dhawan Space Centre</td>\n",
       "      <td>2019</td>\n",
       "      <td>Earth Observation</td>\n",
       "      <td>X/S</td>\n",
       "    </tr>\n",
       "    <tr>\n",
       "      <th>1</th>\n",
       "      <td>AAC AIS-Sat1 (Kelpie 1)</td>\n",
       "      <td>United Kingdom</td>\n",
       "      <td>Commercial</td>\n",
       "      <td>LEO</td>\n",
       "      <td>Cape Canaveral</td>\n",
       "      <td>2023</td>\n",
       "      <td>Earth Observation</td>\n",
       "      <td>X/S</td>\n",
       "    </tr>\n",
       "    <tr>\n",
       "      <th>2</th>\n",
       "      <td>Aalto-1</td>\n",
       "      <td>Finland</td>\n",
       "      <td>Civil</td>\n",
       "      <td>LEO</td>\n",
       "      <td>Satish Dhawan Space Centre</td>\n",
       "      <td>2017</td>\n",
       "      <td>Technology Development</td>\n",
       "      <td>S/X/Ka/Ku</td>\n",
       "    </tr>\n",
       "    <tr>\n",
       "      <th>3</th>\n",
       "      <td>AAt-4</td>\n",
       "      <td>Denmark</td>\n",
       "      <td>Civil</td>\n",
       "      <td>LEO</td>\n",
       "      <td>Guiana Space Center</td>\n",
       "      <td>2016</td>\n",
       "      <td>Earth Observation</td>\n",
       "      <td>X/S</td>\n",
       "    </tr>\n",
       "    <tr>\n",
       "      <th>4</th>\n",
       "      <td>ABS-2</td>\n",
       "      <td>Multinational</td>\n",
       "      <td>Commercial</td>\n",
       "      <td>GEO</td>\n",
       "      <td>Guiana Space Center</td>\n",
       "      <td>2014</td>\n",
       "      <td>Communications</td>\n",
       "      <td>C/Ku/Ka</td>\n",
       "    </tr>\n",
       "    <tr>\n",
       "      <th>...</th>\n",
       "      <td>...</td>\n",
       "      <td>...</td>\n",
       "      <td>...</td>\n",
       "      <td>...</td>\n",
       "      <td>...</td>\n",
       "      <td>...</td>\n",
       "      <td>...</td>\n",
       "      <td>...</td>\n",
       "    </tr>\n",
       "    <tr>\n",
       "      <th>7553</th>\n",
       "      <td>OHS-3</td>\n",
       "      <td>China</td>\n",
       "      <td>Commercial</td>\n",
       "      <td>LEO</td>\n",
       "      <td>Jiuquan Satellite Launch Center</td>\n",
       "      <td>2018</td>\n",
       "      <td>Earth Observation</td>\n",
       "      <td>X/S</td>\n",
       "    </tr>\n",
       "    <tr>\n",
       "      <th>7554</th>\n",
       "      <td>OHS-4</td>\n",
       "      <td>China</td>\n",
       "      <td>Commercial</td>\n",
       "      <td>LEO</td>\n",
       "      <td>Jiuquan Satellite Launch Center</td>\n",
       "      <td>2018</td>\n",
       "      <td>Earth Observation</td>\n",
       "      <td>X/S</td>\n",
       "    </tr>\n",
       "    <tr>\n",
       "      <th>7556</th>\n",
       "      <td>Ziyuan 1-2D</td>\n",
       "      <td>China</td>\n",
       "      <td>Government</td>\n",
       "      <td>LEO</td>\n",
       "      <td>Taiyuan Launch Center</td>\n",
       "      <td>2019</td>\n",
       "      <td>Earth Observation</td>\n",
       "      <td>X/S</td>\n",
       "    </tr>\n",
       "    <tr>\n",
       "      <th>7558</th>\n",
       "      <td>Ziyuan 3-2</td>\n",
       "      <td>China</td>\n",
       "      <td>Government</td>\n",
       "      <td>LEO</td>\n",
       "      <td>Taiyuan Launch Center</td>\n",
       "      <td>2016</td>\n",
       "      <td>Earth Observation</td>\n",
       "      <td>X/S</td>\n",
       "    </tr>\n",
       "    <tr>\n",
       "      <th>7559</th>\n",
       "      <td>Ziyuan 3-3</td>\n",
       "      <td>China</td>\n",
       "      <td>Government</td>\n",
       "      <td>LEO</td>\n",
       "      <td>Taiyuan Launch Center</td>\n",
       "      <td>2020</td>\n",
       "      <td>Earth Observation</td>\n",
       "      <td>X/S</td>\n",
       "    </tr>\n",
       "  </tbody>\n",
       "</table>\n",
       "<p>6920 rows × 8 columns</p>\n",
       "</div>"
      ],
      "text/plain": [
       "               Satellite_Name Operator_Country       Users Orbit  \\\n",
       "0                  1HOPSAT-TD              USA  Commercial   LEO   \n",
       "1     AAC AIS-Sat1 (Kelpie 1)   United Kingdom  Commercial   LEO   \n",
       "2                     Aalto-1          Finland       Civil   LEO   \n",
       "3                       AAt-4          Denmark       Civil   LEO   \n",
       "4                       ABS-2    Multinational  Commercial   GEO   \n",
       "...                       ...              ...         ...   ...   \n",
       "7553                    OHS-3            China  Commercial   LEO   \n",
       "7554                    OHS-4            China  Commercial   LEO   \n",
       "7556              Ziyuan 1-2D            China  Government   LEO   \n",
       "7558               Ziyuan 3-2            China  Government   LEO   \n",
       "7559               Ziyuan 3-3            China  Government   LEO   \n",
       "\n",
       "                          Launch_Site  Launch_Year         Primary_Mission  \\\n",
       "0          Satish Dhawan Space Centre         2019       Earth Observation   \n",
       "1                      Cape Canaveral         2023       Earth Observation   \n",
       "2          Satish Dhawan Space Centre         2017  Technology Development   \n",
       "3                 Guiana Space Center         2016       Earth Observation   \n",
       "4                 Guiana Space Center         2014          Communications   \n",
       "...                               ...          ...                     ...   \n",
       "7553  Jiuquan Satellite Launch Center         2018       Earth Observation   \n",
       "7554  Jiuquan Satellite Launch Center         2018       Earth Observation   \n",
       "7556            Taiyuan Launch Center         2019       Earth Observation   \n",
       "7558            Taiyuan Launch Center         2016       Earth Observation   \n",
       "7559            Taiyuan Launch Center         2020       Earth Observation   \n",
       "\n",
       "     Frequency_Band  \n",
       "0               X/S  \n",
       "1               X/S  \n",
       "2         S/X/Ka/Ku  \n",
       "3               X/S  \n",
       "4           C/Ku/Ka  \n",
       "...             ...  \n",
       "7553            X/S  \n",
       "7554            X/S  \n",
       "7556            X/S  \n",
       "7558            X/S  \n",
       "7559            X/S  \n",
       "\n",
       "[6920 rows x 8 columns]"
      ]
     },
     "execution_count": 75,
     "metadata": {},
     "output_type": "execute_result"
    }
   ],
   "source": [
    "# Put rows that I want to keep into new dataframe.\n",
    "finalsats_df = sats2015_df[['Satellite_Name', 'Operator_Country', 'Users', 'Orbit', 'Launch_Site', 'Launch_Year', 'Primary_Mission', 'Frequency_Band']]\n",
    "finalsats_df"
   ]
  },
  {
   "cell_type": "code",
   "execution_count": 76,
   "id": "58fa534e",
   "metadata": {},
   "outputs": [
    {
     "data": {
      "text/plain": [
       "Users\n",
       "Civil                     145\n",
       "Civil/Commercial            1\n",
       "Civil/Government            4\n",
       "Civil/Military              3\n",
       "Commercial               5826\n",
       "Commercial                  1\n",
       "Commercial/Civil            4\n",
       "Commercial/Government       1\n",
       "Commercial/Military         2\n",
       "Government                416\n",
       "Government                  1\n",
       "Government/Civil           20\n",
       "Government/Commercial      89\n",
       "Government/Military         2\n",
       "Military                  321\n",
       "Military                    1\n",
       "Military/Civil              4\n",
       "Military/Commercial        39\n",
       "Military/Government        40\n",
       "dtype: int64"
      ]
     },
     "execution_count": 76,
     "metadata": {},
     "output_type": "execute_result"
    }
   ],
   "source": [
    "finalsats_df.groupby('Users').size()"
   ]
  },
  {
   "cell_type": "code",
   "execution_count": 77,
   "id": "5e9a8045",
   "metadata": {},
   "outputs": [
    {
     "name": "stderr",
     "output_type": "stream",
     "text": [
      "C:\\Users\\thatc\\AppData\\Local\\Temp\\ipykernel_15356\\1743398410.py:22: SettingWithCopyWarning:\n",
      "\n",
      "\n",
      "A value is trying to be set on a copy of a slice from a DataFrame.\n",
      "Try using .loc[row_indexer,col_indexer] = value instead\n",
      "\n",
      "See the caveats in the documentation: https://pandas.pydata.org/pandas-docs/stable/user_guide/indexing.html#returning-a-view-versus-a-copy\n",
      "\n"
     ]
    },
    {
     "data": {
      "text/html": [
       "<div>\n",
       "<style scoped>\n",
       "    .dataframe tbody tr th:only-of-type {\n",
       "        vertical-align: middle;\n",
       "    }\n",
       "\n",
       "    .dataframe tbody tr th {\n",
       "        vertical-align: top;\n",
       "    }\n",
       "\n",
       "    .dataframe thead th {\n",
       "        text-align: right;\n",
       "    }\n",
       "</style>\n",
       "<table border=\"1\" class=\"dataframe\">\n",
       "  <thead>\n",
       "    <tr style=\"text-align: right;\">\n",
       "      <th></th>\n",
       "      <th>Satellite_Name</th>\n",
       "      <th>Operator_Country</th>\n",
       "      <th>Users</th>\n",
       "      <th>Orbit</th>\n",
       "      <th>Launch_Site</th>\n",
       "      <th>Launch_Year</th>\n",
       "      <th>Primary_Mission</th>\n",
       "      <th>Frequency_Band</th>\n",
       "      <th>Primary_User</th>\n",
       "    </tr>\n",
       "  </thead>\n",
       "  <tbody>\n",
       "    <tr>\n",
       "      <th>0</th>\n",
       "      <td>1HOPSAT-TD</td>\n",
       "      <td>USA</td>\n",
       "      <td>Commercial</td>\n",
       "      <td>LEO</td>\n",
       "      <td>Satish Dhawan Space Centre</td>\n",
       "      <td>2019</td>\n",
       "      <td>Earth Observation</td>\n",
       "      <td>X/S</td>\n",
       "      <td>Commercial</td>\n",
       "    </tr>\n",
       "    <tr>\n",
       "      <th>1</th>\n",
       "      <td>AAC AIS-Sat1 (Kelpie 1)</td>\n",
       "      <td>United Kingdom</td>\n",
       "      <td>Commercial</td>\n",
       "      <td>LEO</td>\n",
       "      <td>Cape Canaveral</td>\n",
       "      <td>2023</td>\n",
       "      <td>Earth Observation</td>\n",
       "      <td>X/S</td>\n",
       "      <td>Commercial</td>\n",
       "    </tr>\n",
       "    <tr>\n",
       "      <th>2</th>\n",
       "      <td>Aalto-1</td>\n",
       "      <td>Finland</td>\n",
       "      <td>Civil</td>\n",
       "      <td>LEO</td>\n",
       "      <td>Satish Dhawan Space Centre</td>\n",
       "      <td>2017</td>\n",
       "      <td>Technology Development</td>\n",
       "      <td>S/X/Ka/Ku</td>\n",
       "      <td>Civil</td>\n",
       "    </tr>\n",
       "    <tr>\n",
       "      <th>3</th>\n",
       "      <td>AAt-4</td>\n",
       "      <td>Denmark</td>\n",
       "      <td>Civil</td>\n",
       "      <td>LEO</td>\n",
       "      <td>Guiana Space Center</td>\n",
       "      <td>2016</td>\n",
       "      <td>Earth Observation</td>\n",
       "      <td>X/S</td>\n",
       "      <td>Civil</td>\n",
       "    </tr>\n",
       "    <tr>\n",
       "      <th>4</th>\n",
       "      <td>ABS-2</td>\n",
       "      <td>Multinational</td>\n",
       "      <td>Commercial</td>\n",
       "      <td>GEO</td>\n",
       "      <td>Guiana Space Center</td>\n",
       "      <td>2014</td>\n",
       "      <td>Communications</td>\n",
       "      <td>C/Ku/Ka</td>\n",
       "      <td>Commercial</td>\n",
       "    </tr>\n",
       "    <tr>\n",
       "      <th>...</th>\n",
       "      <td>...</td>\n",
       "      <td>...</td>\n",
       "      <td>...</td>\n",
       "      <td>...</td>\n",
       "      <td>...</td>\n",
       "      <td>...</td>\n",
       "      <td>...</td>\n",
       "      <td>...</td>\n",
       "      <td>...</td>\n",
       "    </tr>\n",
       "    <tr>\n",
       "      <th>7553</th>\n",
       "      <td>OHS-3</td>\n",
       "      <td>China</td>\n",
       "      <td>Commercial</td>\n",
       "      <td>LEO</td>\n",
       "      <td>Jiuquan Satellite Launch Center</td>\n",
       "      <td>2018</td>\n",
       "      <td>Earth Observation</td>\n",
       "      <td>X/S</td>\n",
       "      <td>Commercial</td>\n",
       "    </tr>\n",
       "    <tr>\n",
       "      <th>7554</th>\n",
       "      <td>OHS-4</td>\n",
       "      <td>China</td>\n",
       "      <td>Commercial</td>\n",
       "      <td>LEO</td>\n",
       "      <td>Jiuquan Satellite Launch Center</td>\n",
       "      <td>2018</td>\n",
       "      <td>Earth Observation</td>\n",
       "      <td>X/S</td>\n",
       "      <td>Commercial</td>\n",
       "    </tr>\n",
       "    <tr>\n",
       "      <th>7556</th>\n",
       "      <td>Ziyuan 1-2D</td>\n",
       "      <td>China</td>\n",
       "      <td>Government</td>\n",
       "      <td>LEO</td>\n",
       "      <td>Taiyuan Launch Center</td>\n",
       "      <td>2019</td>\n",
       "      <td>Earth Observation</td>\n",
       "      <td>X/S</td>\n",
       "      <td>Government</td>\n",
       "    </tr>\n",
       "    <tr>\n",
       "      <th>7558</th>\n",
       "      <td>Ziyuan 3-2</td>\n",
       "      <td>China</td>\n",
       "      <td>Government</td>\n",
       "      <td>LEO</td>\n",
       "      <td>Taiyuan Launch Center</td>\n",
       "      <td>2016</td>\n",
       "      <td>Earth Observation</td>\n",
       "      <td>X/S</td>\n",
       "      <td>Government</td>\n",
       "    </tr>\n",
       "    <tr>\n",
       "      <th>7559</th>\n",
       "      <td>Ziyuan 3-3</td>\n",
       "      <td>China</td>\n",
       "      <td>Government</td>\n",
       "      <td>LEO</td>\n",
       "      <td>Taiyuan Launch Center</td>\n",
       "      <td>2020</td>\n",
       "      <td>Earth Observation</td>\n",
       "      <td>X/S</td>\n",
       "      <td>Government</td>\n",
       "    </tr>\n",
       "  </tbody>\n",
       "</table>\n",
       "<p>6920 rows × 9 columns</p>\n",
       "</div>"
      ],
      "text/plain": [
       "               Satellite_Name Operator_Country       Users Orbit  \\\n",
       "0                  1HOPSAT-TD              USA  Commercial   LEO   \n",
       "1     AAC AIS-Sat1 (Kelpie 1)   United Kingdom  Commercial   LEO   \n",
       "2                     Aalto-1          Finland       Civil   LEO   \n",
       "3                       AAt-4          Denmark       Civil   LEO   \n",
       "4                       ABS-2    Multinational  Commercial   GEO   \n",
       "...                       ...              ...         ...   ...   \n",
       "7553                    OHS-3            China  Commercial   LEO   \n",
       "7554                    OHS-4            China  Commercial   LEO   \n",
       "7556              Ziyuan 1-2D            China  Government   LEO   \n",
       "7558               Ziyuan 3-2            China  Government   LEO   \n",
       "7559               Ziyuan 3-3            China  Government   LEO   \n",
       "\n",
       "                          Launch_Site  Launch_Year         Primary_Mission  \\\n",
       "0          Satish Dhawan Space Centre         2019       Earth Observation   \n",
       "1                      Cape Canaveral         2023       Earth Observation   \n",
       "2          Satish Dhawan Space Centre         2017  Technology Development   \n",
       "3                 Guiana Space Center         2016       Earth Observation   \n",
       "4                 Guiana Space Center         2014          Communications   \n",
       "...                               ...          ...                     ...   \n",
       "7553  Jiuquan Satellite Launch Center         2018       Earth Observation   \n",
       "7554  Jiuquan Satellite Launch Center         2018       Earth Observation   \n",
       "7556            Taiyuan Launch Center         2019       Earth Observation   \n",
       "7558            Taiyuan Launch Center         2016       Earth Observation   \n",
       "7559            Taiyuan Launch Center         2020       Earth Observation   \n",
       "\n",
       "     Frequency_Band Primary_User  \n",
       "0               X/S   Commercial  \n",
       "1               X/S   Commercial  \n",
       "2         S/X/Ka/Ku        Civil  \n",
       "3               X/S        Civil  \n",
       "4           C/Ku/Ka   Commercial  \n",
       "...             ...          ...  \n",
       "7553            X/S   Commercial  \n",
       "7554            X/S   Commercial  \n",
       "7556            X/S   Government  \n",
       "7558            X/S   Government  \n",
       "7559            X/S   Government  \n",
       "\n",
       "[6920 rows x 9 columns]"
      ]
     },
     "execution_count": 77,
     "metadata": {},
     "output_type": "execute_result"
    }
   ],
   "source": [
    "\n",
    "# Create a new column for Primary User and create a function that will pull primary user from Users List\n",
    "def primary_user(users):\n",
    "    p_user = [\n",
    "    'Civil',\n",
    "    'Commercial',\n",
    "    'Government',\n",
    "    'Military',\n",
    "    'Other',\n",
    "    'Unknown'\n",
    "    ] \n",
    "    \n",
    "    if pd.isnull(users):\n",
    "        return 'Other'\n",
    "    \n",
    "    users = [u.strip().title() for u in users.split('/')]\n",
    "\n",
    "    for u in users:\n",
    "        if u in p_user:\n",
    "            return u\n",
    "    return 'Other'\n",
    "\n",
    "finalsats_df['Primary_User'] = finalsats_df['Users'].apply(primary_user)\n",
    "finalsats_df\n"
   ]
  },
  {
   "cell_type": "code",
   "execution_count": 78,
   "id": "2104229a",
   "metadata": {},
   "outputs": [
    {
     "data": {
      "text/plain": [
       "Primary_User\n",
       "Civil          153\n",
       "Commercial    5834\n",
       "Government     528\n",
       "Military       405\n",
       "dtype: int64"
      ]
     },
     "execution_count": 78,
     "metadata": {},
     "output_type": "execute_result"
    }
   ],
   "source": [
    "finalsats_df = finalsats_df[['Satellite_Name', 'Operator_Country','Orbit', 'Launch_Site', 'Launch_Year', 'Primary_Mission', 'Frequency_Band', 'Primary_User']]\n",
    "finalsats_df.groupby('Primary_User').size()"
   ]
  },
  {
   "cell_type": "code",
   "execution_count": 79,
   "id": "2efb3665",
   "metadata": {},
   "outputs": [
    {
     "data": {
      "text/plain": [
       "6920"
      ]
     },
     "execution_count": 79,
     "metadata": {},
     "output_type": "execute_result"
    }
   ],
   "source": [
    "# To SQL DB\n",
    "conn = sqlite3.connect('Satellites.db')\n",
    "finalsats_df.to_sql('Satellites', conn, if_exists='replace', index=False)"
   ]
  },
  {
   "cell_type": "code",
   "execution_count": 80,
   "id": "54305fc9",
   "metadata": {},
   "outputs": [
    {
     "data": {
      "text/html": [
       "<div>\n",
       "<style scoped>\n",
       "    .dataframe tbody tr th:only-of-type {\n",
       "        vertical-align: middle;\n",
       "    }\n",
       "\n",
       "    .dataframe tbody tr th {\n",
       "        vertical-align: top;\n",
       "    }\n",
       "\n",
       "    .dataframe thead th {\n",
       "        text-align: right;\n",
       "    }\n",
       "</style>\n",
       "<table border=\"1\" class=\"dataframe\">\n",
       "  <thead>\n",
       "    <tr style=\"text-align: right;\">\n",
       "      <th></th>\n",
       "      <th>Primary_Mission</th>\n",
       "      <th>Frequency_Band</th>\n",
       "      <th>SatelliteCount</th>\n",
       "    </tr>\n",
       "  </thead>\n",
       "  <tbody>\n",
       "    <tr>\n",
       "      <th>0</th>\n",
       "      <td>Communications</td>\n",
       "      <td>C/Ku/Ka</td>\n",
       "      <td>5179</td>\n",
       "    </tr>\n",
       "    <tr>\n",
       "      <th>1</th>\n",
       "      <td>Earth Observation</td>\n",
       "      <td>X/S</td>\n",
       "      <td>1096</td>\n",
       "    </tr>\n",
       "    <tr>\n",
       "      <th>2</th>\n",
       "      <td>Meteorological</td>\n",
       "      <td>S/X</td>\n",
       "      <td>6</td>\n",
       "    </tr>\n",
       "    <tr>\n",
       "      <th>3</th>\n",
       "      <td>Navigation</td>\n",
       "      <td>L</td>\n",
       "      <td>103</td>\n",
       "    </tr>\n",
       "    <tr>\n",
       "      <th>4</th>\n",
       "      <td>Space Observation</td>\n",
       "      <td>S/X/Ka</td>\n",
       "      <td>12</td>\n",
       "    </tr>\n",
       "    <tr>\n",
       "      <th>5</th>\n",
       "      <td>Space Science</td>\n",
       "      <td>S/X/Ka</td>\n",
       "      <td>64</td>\n",
       "    </tr>\n",
       "    <tr>\n",
       "      <th>6</th>\n",
       "      <td>Technology Development</td>\n",
       "      <td>S/X/Ka/Ku</td>\n",
       "      <td>337</td>\n",
       "    </tr>\n",
       "    <tr>\n",
       "      <th>7</th>\n",
       "      <td>Unknown</td>\n",
       "      <td>Other</td>\n",
       "      <td>123</td>\n",
       "    </tr>\n",
       "  </tbody>\n",
       "</table>\n",
       "</div>"
      ],
      "text/plain": [
       "          Primary_Mission Frequency_Band  SatelliteCount\n",
       "0          Communications        C/Ku/Ka            5179\n",
       "1       Earth Observation            X/S            1096\n",
       "2          Meteorological            S/X               6\n",
       "3              Navigation              L             103\n",
       "4       Space Observation         S/X/Ka              12\n",
       "5           Space Science         S/X/Ka              64\n",
       "6  Technology Development      S/X/Ka/Ku             337\n",
       "7                 Unknown          Other             123"
      ]
     },
     "execution_count": 80,
     "metadata": {},
     "output_type": "execute_result"
    }
   ],
   "source": [
    "# Query to pull primary_mission and frequency_bands\n",
    "msn_query = ''' \n",
    "            SELECT Primary_Mission, Frequency_Band, COUNT(*) AS SatelliteCount\n",
    "            FROM Satellites\n",
    "            GROUP BY Primary_Mission, Frequency_Band\n",
    "        '''\n",
    "\n",
    "msnfreq_df = pd.read_sql_query(msn_query, conn)\n",
    "msnfreq_df"
   ]
  },
  {
   "cell_type": "code",
   "execution_count": 131,
   "id": "04a3cf5b",
   "metadata": {},
   "outputs": [
    {
     "name": "stderr",
     "output_type": "stream",
     "text": [
      "C:\\Users\\thatc\\AppData\\Local\\Temp\\ipykernel_15356\\1443094391.py:14: FutureWarning:\n",
      "\n",
      "\n",
      "\n",
      "Passing `palette` without assigning `hue` is deprecated and will be removed in v0.14.0. Assign the `x` variable to `hue` and set `legend=False` for the same effect.\n",
      "\n",
      "\n"
     ]
    },
    {
     "data": {
      "image/png": "[encoded data removed]",
      "text/plain": [
       "<Figure size 640x480 with 1 Axes>"
      ]
     },
     "metadata": {},
     "output_type": "display_data"
    }
   ],
   "source": [
    "# Bar Chart\n",
    "msn_order = ['Communications', 'Earth Observation', 'Meteorological', 'Navigation', 'Space Observation','Space Science', 'Technology Development', 'Unknown']\n",
    "color_palette = {\n",
    "    'Communications': '#1f77b4',\n",
    "    'Earth Observation': '#ff7f0e',\n",
    "    'Meteorological': '#2ca02c',\n",
    "    'Navigation': '#d62728',\n",
    "    'Space Observation': '#9467bd',\n",
    "    'Space Science': '#8c564b',\n",
    "    'Technology Development': '#e377c2',\n",
    "    'Unknown': '#7f7f7f'\n",
    "}\n",
    "\n",
    "sns.barplot(data=msnfreq_df, x='Primary_Mission', y='SatelliteCount', palette=color_palette, order=msn_order)\n",
    "plt.yscale('log')\n",
    "plt.title('Number of Satellites by Mission Types')\n",
    "plt.ylabel('Number of Satellites')\n",
    "plt.xlabel('Primary Mission')\n",
    "plt.xticks(rotation=35, ha='right')\n",
    "plt.show()"
   ]
  },
  {
   "cell_type": "code",
   "execution_count": 82,
   "id": "c58e60c3",
   "metadata": {},
   "outputs": [
    {
     "data": {
      "text/html": [
       "<div>\n",
       "<style scoped>\n",
       "    .dataframe tbody tr th:only-of-type {\n",
       "        vertical-align: middle;\n",
       "    }\n",
       "\n",
       "    .dataframe tbody tr th {\n",
       "        vertical-align: top;\n",
       "    }\n",
       "\n",
       "    .dataframe thead th {\n",
       "        text-align: right;\n",
       "    }\n",
       "</style>\n",
       "<table border=\"1\" class=\"dataframe\">\n",
       "  <thead>\n",
       "    <tr style=\"text-align: right;\">\n",
       "      <th></th>\n",
       "      <th>Satellite_Name</th>\n",
       "      <th>Operator_Country</th>\n",
       "      <th>Orbit</th>\n",
       "      <th>Launch_Site</th>\n",
       "      <th>Launch_Year</th>\n",
       "      <th>Primary_Mission</th>\n",
       "      <th>Frequency_Band</th>\n",
       "      <th>Primary_User</th>\n",
       "    </tr>\n",
       "  </thead>\n",
       "  <tbody>\n",
       "    <tr>\n",
       "      <th>0</th>\n",
       "      <td>1HOPSAT-TD</td>\n",
       "      <td>USA</td>\n",
       "      <td>LEO</td>\n",
       "      <td>Satish Dhawan Space Centre</td>\n",
       "      <td>2019</td>\n",
       "      <td>Earth Observation</td>\n",
       "      <td>X</td>\n",
       "      <td>Commercial</td>\n",
       "    </tr>\n",
       "    <tr>\n",
       "      <th>0</th>\n",
       "      <td>1HOPSAT-TD</td>\n",
       "      <td>USA</td>\n",
       "      <td>LEO</td>\n",
       "      <td>Satish Dhawan Space Centre</td>\n",
       "      <td>2019</td>\n",
       "      <td>Earth Observation</td>\n",
       "      <td>S</td>\n",
       "      <td>Commercial</td>\n",
       "    </tr>\n",
       "    <tr>\n",
       "      <th>1</th>\n",
       "      <td>AAC AIS-Sat1 (Kelpie 1)</td>\n",
       "      <td>United Kingdom</td>\n",
       "      <td>LEO</td>\n",
       "      <td>Cape Canaveral</td>\n",
       "      <td>2023</td>\n",
       "      <td>Earth Observation</td>\n",
       "      <td>X</td>\n",
       "      <td>Commercial</td>\n",
       "    </tr>\n",
       "    <tr>\n",
       "      <th>1</th>\n",
       "      <td>AAC AIS-Sat1 (Kelpie 1)</td>\n",
       "      <td>United Kingdom</td>\n",
       "      <td>LEO</td>\n",
       "      <td>Cape Canaveral</td>\n",
       "      <td>2023</td>\n",
       "      <td>Earth Observation</td>\n",
       "      <td>S</td>\n",
       "      <td>Commercial</td>\n",
       "    </tr>\n",
       "    <tr>\n",
       "      <th>2</th>\n",
       "      <td>Aalto-1</td>\n",
       "      <td>Finland</td>\n",
       "      <td>LEO</td>\n",
       "      <td>Satish Dhawan Space Centre</td>\n",
       "      <td>2017</td>\n",
       "      <td>Technology Development</td>\n",
       "      <td>S</td>\n",
       "      <td>Civil</td>\n",
       "    </tr>\n",
       "    <tr>\n",
       "      <th>...</th>\n",
       "      <td>...</td>\n",
       "      <td>...</td>\n",
       "      <td>...</td>\n",
       "      <td>...</td>\n",
       "      <td>...</td>\n",
       "      <td>...</td>\n",
       "      <td>...</td>\n",
       "      <td>...</td>\n",
       "    </tr>\n",
       "    <tr>\n",
       "      <th>7556</th>\n",
       "      <td>Ziyuan 1-2D</td>\n",
       "      <td>China</td>\n",
       "      <td>LEO</td>\n",
       "      <td>Taiyuan Launch Center</td>\n",
       "      <td>2019</td>\n",
       "      <td>Earth Observation</td>\n",
       "      <td>S</td>\n",
       "      <td>Government</td>\n",
       "    </tr>\n",
       "    <tr>\n",
       "      <th>7558</th>\n",
       "      <td>Ziyuan 3-2</td>\n",
       "      <td>China</td>\n",
       "      <td>LEO</td>\n",
       "      <td>Taiyuan Launch Center</td>\n",
       "      <td>2016</td>\n",
       "      <td>Earth Observation</td>\n",
       "      <td>X</td>\n",
       "      <td>Government</td>\n",
       "    </tr>\n",
       "    <tr>\n",
       "      <th>7558</th>\n",
       "      <td>Ziyuan 3-2</td>\n",
       "      <td>China</td>\n",
       "      <td>LEO</td>\n",
       "      <td>Taiyuan Launch Center</td>\n",
       "      <td>2016</td>\n",
       "      <td>Earth Observation</td>\n",
       "      <td>S</td>\n",
       "      <td>Government</td>\n",
       "    </tr>\n",
       "    <tr>\n",
       "      <th>7559</th>\n",
       "      <td>Ziyuan 3-3</td>\n",
       "      <td>China</td>\n",
       "      <td>LEO</td>\n",
       "      <td>Taiyuan Launch Center</td>\n",
       "      <td>2020</td>\n",
       "      <td>Earth Observation</td>\n",
       "      <td>X</td>\n",
       "      <td>Government</td>\n",
       "    </tr>\n",
       "    <tr>\n",
       "      <th>7559</th>\n",
       "      <td>Ziyuan 3-3</td>\n",
       "      <td>China</td>\n",
       "      <td>LEO</td>\n",
       "      <td>Taiyuan Launch Center</td>\n",
       "      <td>2020</td>\n",
       "      <td>Earth Observation</td>\n",
       "      <td>S</td>\n",
       "      <td>Government</td>\n",
       "    </tr>\n",
       "  </tbody>\n",
       "</table>\n",
       "<p>19543 rows × 8 columns</p>\n",
       "</div>"
      ],
      "text/plain": [
       "               Satellite_Name Operator_Country Orbit  \\\n",
       "0                  1HOPSAT-TD              USA   LEO   \n",
       "0                  1HOPSAT-TD              USA   LEO   \n",
       "1     AAC AIS-Sat1 (Kelpie 1)   United Kingdom   LEO   \n",
       "1     AAC AIS-Sat1 (Kelpie 1)   United Kingdom   LEO   \n",
       "2                     Aalto-1          Finland   LEO   \n",
       "...                       ...              ...   ...   \n",
       "7556              Ziyuan 1-2D            China   LEO   \n",
       "7558               Ziyuan 3-2            China   LEO   \n",
       "7558               Ziyuan 3-2            China   LEO   \n",
       "7559               Ziyuan 3-3            China   LEO   \n",
       "7559               Ziyuan 3-3            China   LEO   \n",
       "\n",
       "                     Launch_Site  Launch_Year         Primary_Mission  \\\n",
       "0     Satish Dhawan Space Centre         2019       Earth Observation   \n",
       "0     Satish Dhawan Space Centre         2019       Earth Observation   \n",
       "1                 Cape Canaveral         2023       Earth Observation   \n",
       "1                 Cape Canaveral         2023       Earth Observation   \n",
       "2     Satish Dhawan Space Centre         2017  Technology Development   \n",
       "...                          ...          ...                     ...   \n",
       "7556       Taiyuan Launch Center         2019       Earth Observation   \n",
       "7558       Taiyuan Launch Center         2016       Earth Observation   \n",
       "7558       Taiyuan Launch Center         2016       Earth Observation   \n",
       "7559       Taiyuan Launch Center         2020       Earth Observation   \n",
       "7559       Taiyuan Launch Center         2020       Earth Observation   \n",
       "\n",
       "     Frequency_Band Primary_User  \n",
       "0                 X   Commercial  \n",
       "0                 S   Commercial  \n",
       "1                 X   Commercial  \n",
       "1                 S   Commercial  \n",
       "2                 S        Civil  \n",
       "...             ...          ...  \n",
       "7556              S   Government  \n",
       "7558              X   Government  \n",
       "7558              S   Government  \n",
       "7559              X   Government  \n",
       "7559              S   Government  \n",
       "\n",
       "[19543 rows x 8 columns]"
      ]
     },
     "execution_count": 82,
     "metadata": {},
     "output_type": "execute_result"
    }
   ],
   "source": [
    "# Split into Separate Bands (AI-assisted)\n",
    "exploded_df = finalsats_df.assign(Frequency_Band=finalsats_df['Frequency_Band'].str.split('/')).explode('Frequency_Band')\n",
    "\n",
    "custom_order = ['C', 'Ka', 'Ku', 'L', 'S', 'X', 'Other']\n",
    "exploded_df['Frequency_Band'] = pd.Categorical(exploded_df['Frequency_Band'], categories=custom_order, ordered=True)\n",
    "exploded_df"
   ]
  },
  {
   "cell_type": "code",
   "execution_count": 83,
   "id": "3a04280e",
   "metadata": {},
   "outputs": [
    {
     "name": "stderr",
     "output_type": "stream",
     "text": [
      "C:\\Users\\thatc\\AppData\\Local\\Temp\\ipykernel_15356\\2069365567.py:1: FutureWarning:\n",
      "\n",
      "\n",
      "\n",
      "Passing `palette` without assigning `hue` is deprecated and will be removed in v0.14.0. Assign the `x` variable to `hue` and set `legend=False` for the same effect.\n",
      "\n",
      "\n"
     ]
    },
    {
     "data": {
      "image/png": "[encoded data removed]",
      "text/plain": [
       "<Figure size 640x480 with 1 Axes>"
      ]
     },
     "metadata": {},
     "output_type": "display_data"
    }
   ],
   "source": [
    "\n",
    "sns.countplot(data=exploded_df, x='Frequency_Band', order=custom_order, palette='Set2')\n",
    "plt.xlabel('Frequency Band')\n",
    "plt.ylabel('Number of Satellites')\n",
    "plt.title('Satellites by Frequency Band')\n",
    "plt.show()"
   ]
  },
  {
   "cell_type": "code",
   "execution_count": 84,
   "id": "26adb23f",
   "metadata": {},
   "outputs": [
    {
     "data": {
      "image/png": "[encoded data removed]",
      "text/plain": [
       "<Figure size 1000x600 with 1 Axes>"
      ]
     },
     "metadata": {},
     "output_type": "display_data"
    }
   ],
   "source": [
    "# Stacked Bar Chart\n",
    "band_mission_counts = pd.crosstab(exploded_df['Primary_Mission'], exploded_df['Frequency_Band'])\n",
    "band_mission_counts.plot(kind='bar', stacked=True, figsize=(10,6), alpha=0.8)\n",
    "plt.yscale('log')\n",
    "plt.xlabel('Frequency Band')\n",
    "plt.ylabel('Number of Satellites')\n",
    "plt.title('Satellites by Frequency Band and Mission Type')\n",
    "plt.legend(title='Primary Mission')\n",
    "plt.show()"
   ]
  },
  {
   "cell_type": "code",
   "execution_count": 85,
   "id": "a00a1d13",
   "metadata": {},
   "outputs": [
    {
     "data": {
      "image/png": "[encoded data removed]",
      "text/plain": [
       "<Figure size 600x600 with 1 Axes>"
      ]
     },
     "metadata": {},
     "output_type": "display_data"
    }
   ],
   "source": [
    "my_colors = ['']\n",
    "band_counts = exploded_df['Frequency_Band'].value_counts(sort=False)\n",
    "explode = [0.05] * len(band_counts)\n",
    "plt.figure(figsize=(6,6))\n",
    "band_counts.plot.pie(autopct='%1.1f%%', startangle=90, shadow=True, explode=explode, labeldistance=1.1)\n",
    "plt.title('Distribution of Satellites by Frequency Band')\n",
    "plt.show()"
   ]
  },
  {
   "cell_type": "code",
   "execution_count": 86,
   "id": "389d7159",
   "metadata": {},
   "outputs": [
    {
     "data": {
      "text/plain": [
       "Operator_Country\n",
       "Ukraine                          3\n",
       "Lithuania                        5\n",
       "South Africa                     5\n",
       "Peru                             1\n",
       "Egypt                            6\n",
       "Turkmenistan/Monaco              1\n",
       "Colombia                         2\n",
       "Bolivia                          1\n",
       "USA                           4916\n",
       "Estonia                          1\n",
       "Indonesia                        6\n",
       "France/Belgium/Sweden            1\n",
       "Israel                          23\n",
       "Singapore                        8\n",
       "Switzerland                     12\n",
       "Australia                       19\n",
       "Mexico                           6\n",
       "Sinapore                         1\n",
       "Belgium                          2\n",
       "Japan                           67\n",
       "Denmark                          6\n",
       "Finland                         25\n",
       "South Korea                     16\n",
       "Greece/United Kingdom            1\n",
       "USA/Argentina                    2\n",
       "Malaysia                         3\n",
       "USA/Germany                      2\n",
       "Nepal                            1\n",
       "Iran                             2\n",
       "Kenya                            1\n",
       "Algeria                          4\n",
       "Italy                            9\n",
       "United Kingdom                 637\n",
       "Ecuador                          1\n",
       "United Kingdom/Netherlands       1\n",
       "France/Israel                    1\n",
       "Poland/UK                        1\n",
       "Austria                          2\n",
       "Sudan                            1\n",
       "Saudi Arabia                     3\n",
       "Japan/Singapore                  1\n",
       "Laos                             1\n",
       "China/France                     2\n",
       "Tunisia                          1\n",
       "Venezuela                        1\n",
       "Hungary                          2\n",
       "France/Italy                     2\n",
       "Spain                           16\n",
       "Greece                           1\n",
       "Azerbaijan                       2\n",
       "dtype: int64"
      ]
     },
     "execution_count": 86,
     "metadata": {},
     "output_type": "execute_result"
    }
   ],
   "source": [
    "finalsats_df.groupby('Operator_Country').size().sample(50)"
   ]
  },
  {
   "cell_type": "code",
   "execution_count": 87,
   "id": "ed4b14f6",
   "metadata": {},
   "outputs": [
    {
     "data": {
      "application/vnd.plotly.v1+json": {
       "config": {
        "plotlyServerURL": "https://plot.ly"
       },
       "data": [
        {
         "coloraxis": "coloraxis",
         "geo": "geo",
         "hovertemplate": "<b>%{hovertext}</b><br><br>Country=%{location}<br>Log_Satellite_Count=%{z}<extra></extra>",
         "hovertext": [
          "United States",
          "United Kingdom",
          "China",
          "Russia",
          "International",
          "Japan",
          "India",
          "Argentina",
          "Canada",
          "Luxembourg",
          "Germany",
          "France",
          "Finland",
          "Israel",
          "Australia",
          "Spain",
          "South Korea",
          "Italy",
          "Switzerland",
          "Brazil",
          "Turkey",
          "Singapore",
          "Taiwan",
          "Norway",
          "United Arab Emirates",
          "Netherlands",
          "Poland",
          "Mexico",
          "Egypt",
          "Indonesia",
          "Denmark",
          "South Africa",
          "Thailand",
          "Lithuania",
          "Kazakhstan",
          "Czech Republic",
          "Algeria",
          "Chile",
          "Ukraine",
          "Saudi Arabia",
          "Belgium",
          "Malaysia",
          "Hungary",
          "Monaco",
          "Pakistan",
          "Slovenia",
          "Sweden",
          "Morocco",
          "Vietnam",
          "Kuwait",
          "Bulgaria",
          "Iran",
          "Greece",
          "Colombia",
          "Ethiopia",
          "Austria",
          "Azerbaijan",
          "Nepal",
          "Turkmenistan",
          "Estonia",
          "Bolivia",
          "Iraq",
          "Kenya",
          "UK",
          "Sudan",
          "Angola",
          "Bangladesh",
          "Jordan",
          "China ",
          "Belarus",
          "New Zealand",
          "Peru",
          "Tunisia",
          "Sinapore",
          "Ecuador",
          "Laos",
          "Venezuela"
         ],
         "locationmode": "country names",
         "locations": [
          "United States",
          "United Kingdom",
          "China",
          "Russia",
          "International",
          "Japan",
          "India",
          "Argentina",
          "Canada",
          "Luxembourg",
          "Germany",
          "France",
          "Finland",
          "Israel",
          "Australia",
          "Spain",
          "South Korea",
          "Italy",
          "Switzerland",
          "Brazil",
          "Turkey",
          "Singapore",
          "Taiwan",
          "Norway",
          "United Arab Emirates",
          "Netherlands",
          "Poland",
          "Mexico",
          "Egypt",
          "Indonesia",
          "Denmark",
          "South Africa",
          "Thailand",
          "Lithuania",
          "Kazakhstan",
          "Czech Republic",
          "Algeria",
          "Chile",
          "Ukraine",
          "Saudi Arabia",
          "Belgium",
          "Malaysia",
          "Hungary",
          "Monaco",
          "Pakistan",
          "Slovenia",
          "Sweden",
          "Morocco",
          "Vietnam",
          "Kuwait",
          "Bulgaria",
          "Iran",
          "Greece",
          "Colombia",
          "Ethiopia",
          "Austria",
          "Azerbaijan",
          "Nepal",
          "Turkmenistan",
          "Estonia",
          "Bolivia",
          "Iraq",
          "Kenya",
          "UK",
          "Sudan",
          "Angola",
          "Bangladesh",
          "Jordan",
          "China ",
          "Belarus",
          "New Zealand",
          "Peru",
          "Tunisia",
          "Sinapore",
          "Ecuador",
          "Laos",
          "Venezuela"
         ],
         "name": "",
         "type": "choropleth",
         "z": [
          3.6924944075030846,
          2.8068580295188172,
          2.7363965022766426,
          2.12057393120585,
          1.8864907251724818,
          1.8512583487190752,
          1.7075701760979363,
          1.6720978579357175,
          1.6532125137753437,
          1.6127838567197355,
          1.5797835966168101,
          1.505149978319906,
          1.414973347970818,
          1.3979400086720377,
          1.3010299956639813,
          1.2304489213782739,
          1.2304489213782739,
          1.1139433523068367,
          1.1139433523068367,
          1.0791812460476249,
          1.0413926851582251,
          1.0413926851582251,
          1,
          1,
          1,
          0.9542425094393249,
          0.9030899869919435,
          0.8450980400142568,
          0.8450980400142568,
          0.8450980400142568,
          0.8450980400142568,
          0.7781512503836436,
          0.7781512503836436,
          0.7781512503836436,
          0.7781512503836436,
          0.6989700043360189,
          0.6989700043360189,
          0.6020599913279624,
          0.6020599913279624,
          0.6020599913279624,
          0.6020599913279624,
          0.6020599913279624,
          0.47712125471966244,
          0.47712125471966244,
          0.47712125471966244,
          0.47712125471966244,
          0.47712125471966244,
          0.47712125471966244,
          0.47712125471966244,
          0.47712125471966244,
          0.47712125471966244,
          0.47712125471966244,
          0.47712125471966244,
          0.47712125471966244,
          0.47712125471966244,
          0.47712125471966244,
          0.47712125471966244,
          0.3010299956639812,
          0.3010299956639812,
          0.3010299956639812,
          0.3010299956639812,
          0.3010299956639812,
          0.3010299956639812,
          0.3010299956639812,
          0.3010299956639812,
          0.3010299956639812,
          0.3010299956639812,
          0.3010299956639812,
          0.3010299956639812,
          0.3010299956639812,
          0.3010299956639812,
          0.3010299956639812,
          0.3010299956639812,
          0.3010299956639812,
          0.3010299956639812,
          0.3010299956639812,
          0.3010299956639812
         ]
        }
       ],
       "layout": {
        "coloraxis": {
         "colorbar": {
          "title": {
           "text": "Log_Satellite_Count"
          }
         },
         "colorscale": [
          [
           0,
           "#440154"
          ],
          [
           0.1111111111111111,
           "#482878"
          ],
          [
           0.2222222222222222,
           "#3e4989"
          ],
          [
           0.3333333333333333,
           "#31688e"
          ],
          [
           0.4444444444444444,
           "#26828e"
          ],
          [
           0.5555555555555556,
           "#1f9e89"
          ],
          [
           0.6666666666666666,
           "#35b779"
          ],
          [
           0.7777777777777778,
           "#6ece58"
          ],
          [
           0.8888888888888888,
           "#b5de2b"
          ],
          [
           1,
           "#fde725"
          ]
         ]
        },
        "geo": {
         "center": {},
         "domain": {
          "x": [
           0,
           1
          ],
          "y": [
           0,
           1
          ]
         },
         "showcoastlines": true,
         "showframe": false
        },
        "legend": {
         "tracegroupgap": 0
        },
        "template": {
         "data": {
          "bar": [
           {
            "error_x": {
             "color": "#2a3f5f"
            },
            "error_y": {
             "color": "#2a3f5f"
            },
            "marker": {
             "line": {
              "color": "#E5ECF6",
              "width": 0.5
             },
             "pattern": {
              "fillmode": "overlay",
              "size": 10,
              "solidity": 0.2
             }
            },
            "type": "bar"
           }
          ],
          "barpolar": [
           {
            "marker": {
             "line": {
              "color": "#E5ECF6",
              "width": 0.5
             },
             "pattern": {
              "fillmode": "overlay",
              "size": 10,
              "solidity": 0.2
             }
            },
            "type": "barpolar"
           }
          ],
          "carpet": [
           {
            "aaxis": {
             "endlinecolor": "#2a3f5f",
             "gridcolor": "white",
             "linecolor": "white",
             "minorgridcolor": "white",
             "startlinecolor": "#2a3f5f"
            },
            "baxis": {
             "endlinecolor": "#2a3f5f",
             "gridcolor": "white",
             "linecolor": "white",
             "minorgridcolor": "white",
             "startlinecolor": "#2a3f5f"
            },
            "type": "carpet"
           }
          ],
          "choropleth": [
           {
            "colorbar": {
             "outlinewidth": 0,
             "ticks": ""
            },
            "type": "choropleth"
           }
          ],
          "contour": [
           {
            "colorbar": {
             "outlinewidth": 0,
             "ticks": ""
            },
            "colorscale": [
             [
              0,
              "#0d0887"
             ],
             [
              0.1111111111111111,
              "#46039f"
             ],
             [
              0.2222222222222222,
              "#7201a8"
             ],
             [
              0.3333333333333333,
              "#9c179e"
             ],
             [
              0.4444444444444444,
              "#bd3786"
             ],
             [
              0.5555555555555556,
              "#d8576b"
             ],
             [
              0.6666666666666666,
              "#ed7953"
             ],
             [
              0.7777777777777778,
              "#fb9f3a"
             ],
             [
              0.8888888888888888,
              "#fdca26"
             ],
             [
              1,
              "#f0f921"
             ]
            ],
            "type": "contour"
           }
          ],
          "contourcarpet": [
           {
            "colorbar": {
             "outlinewidth": 0,
             "ticks": ""
            },
            "type": "contourcarpet"
           }
          ],
          "heatmap": [
           {
            "colorbar": {
             "outlinewidth": 0,
             "ticks": ""
            },
            "colorscale": [
             [
              0,
              "#0d0887"
             ],
             [
              0.1111111111111111,
              "#46039f"
             ],
             [
              0.2222222222222222,
              "#7201a8"
             ],
             [
              0.3333333333333333,
              "#9c179e"
             ],
             [
              0.4444444444444444,
              "#bd3786"
             ],
             [
              0.5555555555555556,
              "#d8576b"
             ],
             [
              0.6666666666666666,
              "#ed7953"
             ],
             [
              0.7777777777777778,
              "#fb9f3a"
             ],
             [
              0.8888888888888888,
              "#fdca26"
             ],
             [
              1,
              "#f0f921"
             ]
            ],
            "type": "heatmap"
           }
          ],
          "heatmapgl": [
           {
            "colorbar": {
             "outlinewidth": 0,
             "ticks": ""
            },
            "colorscale": [
             [
              0,
              "#0d0887"
             ],
             [
              0.1111111111111111,
              "#46039f"
             ],
             [
              0.2222222222222222,
              "#7201a8"
             ],
             [
              0.3333333333333333,
              "#9c179e"
             ],
             [
              0.4444444444444444,
              "#bd3786"
             ],
             [
              0.5555555555555556,
              "#d8576b"
             ],
             [
              0.6666666666666666,
              "#ed7953"
             ],
             [
              0.7777777777777778,
              "#fb9f3a"
             ],
             [
              0.8888888888888888,
              "#fdca26"
             ],
             [
              1,
              "#f0f921"
             ]
            ],
            "type": "heatmapgl"
           }
          ],
          "histogram": [
           {
            "marker": {
             "pattern": {
              "fillmode": "overlay",
              "size": 10,
              "solidity": 0.2
             }
            },
            "type": "histogram"
           }
          ],
          "histogram2d": [
           {
            "colorbar": {
             "outlinewidth": 0,
             "ticks": ""
            },
            "colorscale": [
             [
              0,
              "#0d0887"
             ],
             [
              0.1111111111111111,
              "#46039f"
             ],
             [
              0.2222222222222222,
              "#7201a8"
             ],
             [
              0.3333333333333333,
              "#9c179e"
             ],
             [
              0.4444444444444444,
              "#bd3786"
             ],
             [
              0.5555555555555556,
              "#d8576b"
             ],
             [
              0.6666666666666666,
              "#ed7953"
             ],
             [
              0.7777777777777778,
              "#fb9f3a"
             ],
             [
              0.8888888888888888,
              "#fdca26"
             ],
             [
              1,
              "#f0f921"
             ]
            ],
            "type": "histogram2d"
           }
          ],
          "histogram2dcontour": [
           {
            "colorbar": {
             "outlinewidth": 0,
             "ticks": ""
            },
            "colorscale": [
             [
              0,
              "#0d0887"
             ],
             [
              0.1111111111111111,
              "#46039f"
             ],
             [
              0.2222222222222222,
              "#7201a8"
             ],
             [
              0.3333333333333333,
              "#9c179e"
             ],
             [
              0.4444444444444444,
              "#bd3786"
             ],
             [
              0.5555555555555556,
              "#d8576b"
             ],
             [
              0.6666666666666666,
              "#ed7953"
             ],
             [
              0.7777777777777778,
              "#fb9f3a"
             ],
             [
              0.8888888888888888,
              "#fdca26"
             ],
             [
              1,
              "#f0f921"
             ]
            ],
            "type": "histogram2dcontour"
           }
          ],
          "mesh3d": [
           {
            "colorbar": {
             "outlinewidth": 0,
             "ticks": ""
            },
            "type": "mesh3d"
           }
          ],
          "parcoords": [
           {
            "line": {
             "colorbar": {
              "outlinewidth": 0,
              "ticks": ""
             }
            },
            "type": "parcoords"
           }
          ],
          "pie": [
           {
            "automargin": true,
            "type": "pie"
           }
          ],
          "scatter": [
           {
            "fillpattern": {
             "fillmode": "overlay",
             "size": 10,
             "solidity": 0.2
            },
            "type": "scatter"
           }
          ],
          "scatter3d": [
           {
            "line": {
             "colorbar": {
              "outlinewidth": 0,
              "ticks": ""
             }
            },
            "marker": {
             "colorbar": {
              "outlinewidth": 0,
              "ticks": ""
             }
            },
            "type": "scatter3d"
           }
          ],
          "scattercarpet": [
           {
            "marker": {
             "colorbar": {
              "outlinewidth": 0,
              "ticks": ""
             }
            },
            "type": "scattercarpet"
           }
          ],
          "scattergeo": [
           {
            "marker": {
             "colorbar": {
              "outlinewidth": 0,
              "ticks": ""
             }
            },
            "type": "scattergeo"
           }
          ],
          "scattergl": [
           {
            "marker": {
             "colorbar": {
              "outlinewidth": 0,
              "ticks": ""
             }
            },
            "type": "scattergl"
           }
          ],
          "scattermapbox": [
           {
            "marker": {
             "colorbar": {
              "outlinewidth": 0,
              "ticks": ""
             }
            },
            "type": "scattermapbox"
           }
          ],
          "scatterpolar": [
           {
            "marker": {
             "colorbar": {
              "outlinewidth": 0,
              "ticks": ""
             }
            },
            "type": "scatterpolar"
           }
          ],
          "scatterpolargl": [
           {
            "marker": {
             "colorbar": {
              "outlinewidth": 0,
              "ticks": ""
             }
            },
            "type": "scatterpolargl"
           }
          ],
          "scatterternary": [
           {
            "marker": {
             "colorbar": {
              "outlinewidth": 0,
              "ticks": ""
             }
            },
            "type": "scatterternary"
           }
          ],
          "surface": [
           {
            "colorbar": {
             "outlinewidth": 0,
             "ticks": ""
            },
            "colorscale": [
             [
              0,
              "#0d0887"
             ],
             [
              0.1111111111111111,
              "#46039f"
             ],
             [
              0.2222222222222222,
              "#7201a8"
             ],
             [
              0.3333333333333333,
              "#9c179e"
             ],
             [
              0.4444444444444444,
              "#bd3786"
             ],
             [
              0.5555555555555556,
              "#d8576b"
             ],
             [
              0.6666666666666666,
              "#ed7953"
             ],
             [
              0.7777777777777778,
              "#fb9f3a"
             ],
             [
              0.8888888888888888,
              "#fdca26"
             ],
             [
              1,
              "#f0f921"
             ]
            ],
            "type": "surface"
           }
          ],
          "table": [
           {
            "cells": {
             "fill": {
              "color": "#EBF0F8"
             },
             "line": {
              "color": "white"
             }
            },
            "header": {
             "fill": {
              "color": "#C8D4E3"
             },
             "line": {
              "color": "white"
             }
            },
            "type": "table"
           }
          ]
         },
         "layout": {
          "annotationdefaults": {
           "arrowcolor": "#2a3f5f",
           "arrowhead": 0,
           "arrowwidth": 1
          },
          "autotypenumbers": "strict",
          "coloraxis": {
           "colorbar": {
            "outlinewidth": 0,
            "ticks": ""
           }
          },
          "colorscale": {
           "diverging": [
            [
             0,
             "#8e0152"
            ],
            [
             0.1,
             "#c51b7d"
            ],
            [
             0.2,
             "#de77ae"
            ],
            [
             0.3,
             "#f1b6da"
            ],
            [
             0.4,
             "#fde0ef"
            ],
            [
             0.5,
             "#f7f7f7"
            ],
            [
             0.6,
             "#e6f5d0"
            ],
            [
             0.7,
             "#b8e186"
            ],
            [
             0.8,
             "#7fbc41"
            ],
            [
             0.9,
             "#4d9221"
            ],
            [
             1,
             "#276419"
            ]
           ],
           "sequential": [
            [
             0,
             "#0d0887"
            ],
            [
             0.1111111111111111,
             "#46039f"
            ],
            [
             0.2222222222222222,
             "#7201a8"
            ],
            [
             0.3333333333333333,
             "#9c179e"
            ],
            [
             0.4444444444444444,
             "#bd3786"
            ],
            [
             0.5555555555555556,
             "#d8576b"
            ],
            [
             0.6666666666666666,
             "#ed7953"
            ],
            [
             0.7777777777777778,
             "#fb9f3a"
            ],
            [
             0.8888888888888888,
             "#fdca26"
            ],
            [
             1,
             "#f0f921"
            ]
           ],
           "sequentialminus": [
            [
             0,
             "#0d0887"
            ],
            [
             0.1111111111111111,
             "#46039f"
            ],
            [
             0.2222222222222222,
             "#7201a8"
            ],
            [
             0.3333333333333333,
             "#9c179e"
            ],
            [
             0.4444444444444444,
             "#bd3786"
            ],
            [
             0.5555555555555556,
             "#d8576b"
            ],
            [
             0.6666666666666666,
             "#ed7953"
            ],
            [
             0.7777777777777778,
             "#fb9f3a"
            ],
            [
             0.8888888888888888,
             "#fdca26"
            ],
            [
             1,
             "#f0f921"
            ]
           ]
          },
          "colorway": [
           "#636efa",
           "#EF553B",
           "#00cc96",
           "#ab63fa",
           "#FFA15A",
           "#19d3f3",
           "#FF6692",
           "#B6E880",
           "#FF97FF",
           "#FECB52"
          ],
          "font": {
           "color": "#2a3f5f"
          },
          "geo": {
           "bgcolor": "white",
           "lakecolor": "white",
           "landcolor": "#E5ECF6",
           "showlakes": true,
           "showland": true,
           "subunitcolor": "white"
          },
          "hoverlabel": {
           "align": "left"
          },
          "hovermode": "closest",
          "mapbox": {
           "style": "light"
          },
          "paper_bgcolor": "white",
          "plot_bgcolor": "#E5ECF6",
          "polar": {
           "angularaxis": {
            "gridcolor": "white",
            "linecolor": "white",
            "ticks": ""
           },
           "bgcolor": "#E5ECF6",
           "radialaxis": {
            "gridcolor": "white",
            "linecolor": "white",
            "ticks": ""
           }
          },
          "scene": {
           "xaxis": {
            "backgroundcolor": "#E5ECF6",
            "gridcolor": "white",
            "gridwidth": 2,
            "linecolor": "white",
            "showbackground": true,
            "ticks": "",
            "zerolinecolor": "white"
           },
           "yaxis": {
            "backgroundcolor": "#E5ECF6",
            "gridcolor": "white",
            "gridwidth": 2,
            "linecolor": "white",
            "showbackground": true,
            "ticks": "",
            "zerolinecolor": "white"
           },
           "zaxis": {
            "backgroundcolor": "#E5ECF6",
            "gridcolor": "white",
            "gridwidth": 2,
            "linecolor": "white",
            "showbackground": true,
            "ticks": "",
            "zerolinecolor": "white"
           }
          },
          "shapedefaults": {
           "line": {
            "color": "#2a3f5f"
           }
          },
          "ternary": {
           "aaxis": {
            "gridcolor": "white",
            "linecolor": "white",
            "ticks": ""
           },
           "baxis": {
            "gridcolor": "white",
            "linecolor": "white",
            "ticks": ""
           },
           "bgcolor": "#E5ECF6",
           "caxis": {
            "gridcolor": "white",
            "linecolor": "white",
            "ticks": ""
           }
          },
          "title": {
           "x": 0.05
          },
          "xaxis": {
           "automargin": true,
           "gridcolor": "white",
           "linecolor": "white",
           "ticks": "",
           "title": {
            "standoff": 15
           },
           "zerolinecolor": "white",
           "zerolinewidth": 2
          },
          "yaxis": {
           "automargin": true,
           "gridcolor": "white",
           "linecolor": "white",
           "ticks": "",
           "title": {
            "standoff": 15
           },
           "zerolinecolor": "white",
           "zerolinewidth": 2
          }
         }
        },
        "title": {
         "text": "Log(Number of Satellites per Country)"
        }
       }
      }
     },
     "metadata": {},
     "output_type": "display_data"
    }
   ],
   "source": [
    "# choropleth\n",
    "# Explode Countries since Some have multiple operator countries\n",
    "exploded_country_df = finalsats_df.assign(\n",
    "    Country=finalsats_df['Operator_Country'].str.split('/')\n",
    ").explode('Country')\n",
    "exploded_country_df\n",
    "\n",
    "# Use replace to fix any country names\n",
    "exploded_country_df['Country'] = exploded_country_df['Country'].replace({\n",
    "    'USA': 'United States',\n",
    "    'Multinational': 'International',\n",
    "    'ESA': 'International'\n",
    "})\n",
    "\n",
    "# Aggregate Country Counts\n",
    "satellite_counts = exploded_country_df['Country'].value_counts().reset_index()\n",
    "satellite_counts.columns = ['Country', 'Satellite_Count']\n",
    "satellite_counts['Log_Satellite_Count'] = np.log10(satellite_counts['Satellite_Count']+1)\n",
    "\n",
    "# Plot Choropleth\n",
    "fig = px.choropleth(\n",
    "    satellite_counts,\n",
    "    locations='Country',\n",
    "    locationmode='country names',\n",
    "    color='Log_Satellite_Count',\n",
    "    hover_name='Country',\n",
    "    color_continuous_scale='Viridis',\n",
    "    title=\"Log(Number of Satellites per Country)\",\n",
    ")\n",
    "\n",
    "fig.update_layout(geo=dict(showframe=False, showcoastlines=True))\n",
    "fig.show()"
   ]
  },
  {
   "cell_type": "code",
   "execution_count": 26,
   "id": "f659c208",
   "metadata": {},
   "outputs": [
    {
     "data": {
      "text/html": [
       "<div>\n",
       "<style scoped>\n",
       "    .dataframe tbody tr th:only-of-type {\n",
       "        vertical-align: middle;\n",
       "    }\n",
       "\n",
       "    .dataframe tbody tr th {\n",
       "        vertical-align: top;\n",
       "    }\n",
       "\n",
       "    .dataframe thead th {\n",
       "        text-align: right;\n",
       "    }\n",
       "</style>\n",
       "<table border=\"1\" class=\"dataframe\">\n",
       "  <thead>\n",
       "    <tr style=\"text-align: right;\">\n",
       "      <th></th>\n",
       "      <th>Country</th>\n",
       "      <th>Satellite_Count</th>\n",
       "      <th>Log_Satellite_Count</th>\n",
       "    </tr>\n",
       "  </thead>\n",
       "  <tbody>\n",
       "    <tr>\n",
       "      <th>0</th>\n",
       "      <td>United States</td>\n",
       "      <td>4876</td>\n",
       "      <td>3.688153</td>\n",
       "    </tr>\n",
       "    <tr>\n",
       "      <th>1</th>\n",
       "      <td>United Kingdom</td>\n",
       "      <td>626</td>\n",
       "      <td>2.797268</td>\n",
       "    </tr>\n",
       "    <tr>\n",
       "      <th>2</th>\n",
       "      <td>China</td>\n",
       "      <td>509</td>\n",
       "      <td>2.707570</td>\n",
       "    </tr>\n",
       "    <tr>\n",
       "      <th>3</th>\n",
       "      <td>Russia</td>\n",
       "      <td>96</td>\n",
       "      <td>1.986772</td>\n",
       "    </tr>\n",
       "    <tr>\n",
       "      <th>4</th>\n",
       "      <td>International</td>\n",
       "      <td>62</td>\n",
       "      <td>1.799341</td>\n",
       "    </tr>\n",
       "    <tr>\n",
       "      <th>...</th>\n",
       "      <td>...</td>\n",
       "      <td>...</td>\n",
       "      <td>...</td>\n",
       "    </tr>\n",
       "    <tr>\n",
       "      <th>70</th>\n",
       "      <td>Bangladesh</td>\n",
       "      <td>1</td>\n",
       "      <td>0.301030</td>\n",
       "    </tr>\n",
       "    <tr>\n",
       "      <th>71</th>\n",
       "      <td>Azerbaijan</td>\n",
       "      <td>1</td>\n",
       "      <td>0.301030</td>\n",
       "    </tr>\n",
       "    <tr>\n",
       "      <th>72</th>\n",
       "      <td>Angola</td>\n",
       "      <td>1</td>\n",
       "      <td>0.301030</td>\n",
       "    </tr>\n",
       "    <tr>\n",
       "      <th>73</th>\n",
       "      <td>Austria</td>\n",
       "      <td>1</td>\n",
       "      <td>0.301030</td>\n",
       "    </tr>\n",
       "    <tr>\n",
       "      <th>74</th>\n",
       "      <td>Venezuela</td>\n",
       "      <td>1</td>\n",
       "      <td>0.301030</td>\n",
       "    </tr>\n",
       "  </tbody>\n",
       "</table>\n",
       "<p>75 rows × 3 columns</p>\n",
       "</div>"
      ],
      "text/plain": [
       "           Country  Satellite_Count  Log_Satellite_Count\n",
       "0    United States             4876             3.688153\n",
       "1   United Kingdom              626             2.797268\n",
       "2            China              509             2.707570\n",
       "3           Russia               96             1.986772\n",
       "4    International               62             1.799341\n",
       "..             ...              ...                  ...\n",
       "70      Bangladesh                1             0.301030\n",
       "71      Azerbaijan                1             0.301030\n",
       "72          Angola                1             0.301030\n",
       "73         Austria                1             0.301030\n",
       "74       Venezuela                1             0.301030\n",
       "\n",
       "[75 rows x 3 columns]"
      ]
     },
     "execution_count": 26,
     "metadata": {},
     "output_type": "execute_result"
    }
   ],
   "source": [
    "satellite_counts"
   ]
  },
  {
   "cell_type": "code",
   "execution_count": 27,
   "id": "91130852",
   "metadata": {},
   "outputs": [
    {
     "data": {
      "image/png": "[encoded data removed]",
      "text/plain": [
       "<Figure size 640x480 with 1 Axes>"
      ]
     },
     "metadata": {},
     "output_type": "display_data"
    }
   ],
   "source": [
    "def create_histograms(df):\n",
    "    c_band = exploded_df[exploded_df['Frequency_Band'] == 'C']\n",
    "    fig, ax = plt.subplots()\n",
    "    ax.hist(c_band['Frequency_Band'], color='#377eb8', density=True, alpha=0.4, bins=2)\n",
    "\n",
    "    ka_band = exploded_df[exploded_df['Frequency_Band'] =='Ka']\n",
    "    ax.hist(ka_band['Frequency_Band'], color=\"#ff7f00\", density=True, alpha=0.4, bins=2)\n",
    "\n",
    "    ku_band = exploded_df[exploded_df['Frequency_Band'] =='Ku']\n",
    "    ax.hist(ku_band['Frequency_Band'], color=\"#4daf4a\", density=True, alpha=0.4, bins=2)\n",
    "\n",
    "    l_band = exploded_df[exploded_df['Frequency_Band'] =='L']\n",
    "    ax.hist(l_band['Frequency_Band'], color=\"#f781bf\", density=True, alpha=0.4, bins=2)\n",
    "\n",
    "    s_band = exploded_df[exploded_df['Frequency_Band'] =='S']\n",
    "    ax.hist(s_band['Frequency_Band'], color=\"#a65628\", density=True, alpha=0.4, bins=2)\n",
    "\n",
    "    x_band = exploded_df[exploded_df['Frequency_Band'] =='X']\n",
    "    ax.hist(x_band['Frequency_Band'], color=\"#984ea3\", density=True, alpha=0.4, bins=2)\n",
    "\n",
    "    ax.set_xlabel('Primary Mission')\n",
    "    plt.xticks(rotation=45)\n",
    "    ax.set_ylabel('Frequency Distribution')\n",
    "    ax.set_title('Occurrences of Missions by Frequency')\n",
    "    ax.legend(['c_band', ])\n",
    "\n",
    "create_histograms(exploded_df)"
   ]
  },
  {
   "cell_type": "code",
   "execution_count": 28,
   "id": "2a8d7687",
   "metadata": {},
   "outputs": [
    {
     "data": {
      "image/png": "[encoded data removed]",
      "text/plain": [
       "<Figure size 640x480 with 1 Axes>"
      ]
     },
     "metadata": {},
     "output_type": "display_data"
    }
   ],
   "source": [
    "sns.histplot(data=exploded_df['Frequency_Band'])\n",
    "plt.show()\n",
    "\n"
   ]
  },
  {
   "cell_type": "code",
   "execution_count": null,
   "id": "70e89d61",
   "metadata": {},
   "outputs": [],
   "source": []
  },
  {
   "cell_type": "code",
   "execution_count": 29,
   "id": "878aca62",
   "metadata": {},
   "outputs": [
    {
     "name": "stdout",
     "output_type": "stream",
     "text": [
      "Requirement already satisfied: squarify in c:\\users\\thatc\\anaconda3\\lib\\site-packages (0.4.4)Note: you may need to restart the kernel to use updated packages.\n",
      "\n"
     ]
    }
   ],
   "source": [
    "pip install squarify"
   ]
  },
  {
   "cell_type": "code",
   "execution_count": 88,
   "id": "f90a373b",
   "metadata": {},
   "outputs": [
    {
     "data": {
      "image/png": "[encoded data removed]",
      "text/plain": [
       "<Figure size 1200x800 with 1 Axes>"
      ]
     },
     "metadata": {},
     "output_type": "display_data"
    }
   ],
   "source": [
    "import squarify\n",
    "\n",
    "# Prepare data\n",
    "sizes = band_counts.values\n",
    "labels = [f\"{band}\\n{count}\" for band, count in zip(band_counts.index, band_counts.values)]\n",
    "\n",
    "# Plot\n",
    "plt.figure(figsize=(12,8))\n",
    "squarify.plot(sizes=sizes, label=labels, alpha=0.7, color=sns.color_palette('viridis', len(sizes)))\n",
    "plt.axis('off')\n",
    "plt.title('Distribution of Satellites by Frequency Band')\n",
    "plt.show()\n"
   ]
  },
  {
   "cell_type": "code",
   "execution_count": 132,
   "id": "874ebc61",
   "metadata": {},
   "outputs": [
    {
     "data": {
      "image/png": "[encoded data removed]",
      "text/plain": [
       "<Figure size 1000x600 with 2 Axes>"
      ]
     },
     "metadata": {},
     "output_type": "display_data"
    }
   ],
   "source": [
    "heatmap_data = pd.crosstab(exploded_df['Primary_Mission'], exploded_df['Frequency_Band'])\n",
    "log_heatmap_data = np.log10(heatmap_data + 1)\n",
    "plt.figure(figsize=(10,6))\n",
    "sns.heatmap(log_heatmap_data, annot=True, fmt='.2f', cmap='viridis')\n",
    "plt.title('Heatmap of Satellites by Mission Purpose and Frequency Band')\n",
    "plt.xlabel('Frequency Band')\n",
    "plt.ylabel('Mission Purpose')\n",
    "plt.show()"
   ]
  }
 ],
 "metadata": {
  "kernelspec": {
   "display_name": "base",
   "language": "python",
   "name": "python3"
  },
  "language_info": {
   "codemirror_mode": {
    "name": "ipython",
    "version": 3
   },
   "file_extension": ".py",
   "mimetype": "text/x-python",
   "name": "python",
   "nbconvert_exporter": "python",
   "pygments_lexer": "ipython3",
   "version": "3.12.7"
  }
 },
 "nbformat": 4,
 "nbformat_minor": 5
}
